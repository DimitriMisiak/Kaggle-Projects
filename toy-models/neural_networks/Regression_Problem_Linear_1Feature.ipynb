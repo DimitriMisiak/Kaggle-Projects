{
 "cells": [
  {
   "cell_type": "code",
   "execution_count": 1,
   "id": "e9168a0d",
   "metadata": {},
   "outputs": [
    {
     "name": "stdout",
     "output_type": "stream",
     "text": [
      "Setup Complete\n"
     ]
    }
   ],
   "source": [
    "import numpy as np\n",
    "import pandas as pd\n",
    "pd.plotting.register_matplotlib_converters()\n",
    "import matplotlib.pyplot as plt\n",
    "%matplotlib inline\n",
    "import seaborn as sns\n",
    "sns.set_style(\"whitegrid\")\n",
    "print(\"Setup Complete\")"
   ]
  },
  {
   "cell_type": "markdown",
   "id": "60f73d1e",
   "metadata": {},
   "source": [
    "#### Creating a synthetic regression dataset"
   ]
  },
  {
   "cell_type": "code",
   "execution_count": 2,
   "id": "b7e7bfbc",
   "metadata": {},
   "outputs": [],
   "source": [
    "# from sklearn.datasets import make_regression\n",
    "\n",
    "# X, y, coef = make_regression(\n",
    "#     n_features=1,\n",
    "#     coef=True,\n",
    "#     random_state=0\n",
    "# )\n",
    "# X = pd.DataFrame(X)\n",
    "# y = pd.Series(y)\n",
    "\n",
    "n_samples = 1000\n",
    "X = np.linspace(-2, 2, n_samples)\n",
    "coef = np.random.rand()*10\n",
    "y = coef * X + np.random.normal(size=n_samples)"
   ]
  },
  {
   "cell_type": "code",
   "execution_count": 3,
   "id": "5d97b5f4",
   "metadata": {},
   "outputs": [
    {
     "name": "stdout",
     "output_type": "stream",
     "text": [
      "9.999840616996611\n"
     ]
    },
    {
     "data": {
      "image/png": "[encoded data removed]",
      "text/plain": [
       "<Figure size 432x288 with 1 Axes>"
      ]
     },
     "metadata": {},
     "output_type": "display_data"
    }
   ],
   "source": [
    "plt.figure()\n",
    "plt.plot(\n",
    "    X, y,\n",
    "    marker='.',\n",
    "    ls='none'\n",
    ")\n",
    "print(coef)"
   ]
  },
  {
   "cell_type": "markdown",
   "id": "d2367c4d",
   "metadata": {},
   "source": [
    "#### building the neural network"
   ]
  },
  {
   "cell_type": "code",
   "execution_count": 188,
   "id": "572d5fc6",
   "metadata": {},
   "outputs": [],
   "source": [
    "input_shape = [1,]\n",
    "\n",
    "from tensorflow import keras\n",
    "from tensorflow.keras import layers\n",
    "\n",
    "# YOUR CODE HERE\n",
    "# model = model = keras.Sequential([\n",
    "#     layers.BatchNormalization(),\n",
    "#     layers.Dense(units=512),\n",
    "#     layers.Activation('relu'),\n",
    "#     layers.Dense(units=1),\n",
    "# ])\n",
    "model = keras.Sequential([\n",
    "    layers.Dense(units=1),\n",
    "])"
   ]
  },
  {
   "cell_type": "code",
   "execution_count": 189,
   "id": "9f5e585c",
   "metadata": {},
   "outputs": [],
   "source": [
    "opt = keras.optimizers.Adam(learning_rate=0.1)\n",
    "\n",
    "model.compile(\n",
    "    optimizer=opt,\n",
    "    loss='mae',\n",
    ")"
   ]
  },
  {
   "cell_type": "code",
   "execution_count": 190,
   "id": "49ae8df1",
   "metadata": {},
   "outputs": [],
   "source": [
    "early_stopping = keras.callbacks.EarlyStopping(\n",
    "    patience=20,\n",
    "    min_delta=0.001,\n",
    "    restore_best_weights=True,\n",
    ")\n",
    "\n",
    "lr_schedule = keras.callbacks.ReduceLROnPlateau(\n",
    "    patience=2,\n",
    "    factor=0.5,\n",
    "    min_lr=0.001,\n",
    ")"
   ]
  },
  {
   "cell_type": "code",
   "execution_count": 191,
   "id": "a87391cb",
   "metadata": {
    "scrolled": true
   },
   "outputs": [
    {
     "name": "stdout",
     "output_type": "stream",
     "text": [
      "Epoch 1/1000\n",
      "100/100 [==============================] - 1s 5ms/step - loss: 4.1103 - val_loss: 1.5773\n",
      "Epoch 2/1000\n",
      "100/100 [==============================] - 0s 778us/step - loss: 0.8168 - val_loss: 0.7892\n",
      "Epoch 3/1000\n",
      "100/100 [==============================] - 0s 767us/step - loss: 0.8027 - val_loss: 0.8050\n",
      "Epoch 4/1000\n",
      "100/100 [==============================] - 0s 767us/step - loss: 0.8079 - val_loss: 0.8056\n",
      "Epoch 5/1000\n",
      "100/100 [==============================] - 0s 778us/step - loss: 0.8016 - val_loss: 0.8028\n",
      "Epoch 6/1000\n",
      "100/100 [==============================] - 0s 889us/step - loss: 0.7987 - val_loss: 0.8208\n",
      "Epoch 7/1000\n",
      "100/100 [==============================] - 0s 767us/step - loss: 0.8029 - val_loss: 0.7956\n",
      "Epoch 8/1000\n",
      "100/100 [==============================] - 0s 757us/step - loss: 0.7975 - val_loss: 0.8114\n",
      "Epoch 9/1000\n",
      "100/100 [==============================] - 0s 778us/step - loss: 0.7995 - val_loss: 0.7985\n",
      "Epoch 10/1000\n",
      "100/100 [==============================] - 0s 778us/step - loss: 0.7954 - val_loss: 0.7982\n",
      "Epoch 11/1000\n",
      "100/100 [==============================] - 0s 838us/step - loss: 0.7968 - val_loss: 0.7998\n",
      "Epoch 12/1000\n",
      "100/100 [==============================] - 0s 757us/step - loss: 0.7958 - val_loss: 0.8007\n",
      "Epoch 13/1000\n",
      "100/100 [==============================] - 0s 778us/step - loss: 0.7952 - val_loss: 0.7997\n",
      "Epoch 14/1000\n",
      "100/100 [==============================] - 0s 747us/step - loss: 0.7954 - val_loss: 0.8000\n",
      "Epoch 15/1000\n",
      "100/100 [==============================] - 0s 757us/step - loss: 0.7950 - val_loss: 0.7989\n",
      "Epoch 16/1000\n",
      "100/100 [==============================] - 0s 767us/step - loss: 0.7949 - val_loss: 0.7989\n",
      "Epoch 17/1000\n",
      "100/100 [==============================] - 0s 747us/step - loss: 0.7947 - val_loss: 0.7988\n",
      "Epoch 18/1000\n",
      "100/100 [==============================] - 0s 767us/step - loss: 0.7948 - val_loss: 0.7987\n",
      "Epoch 19/1000\n",
      "100/100 [==============================] - 0s 757us/step - loss: 0.7949 - val_loss: 0.7987\n",
      "Epoch 20/1000\n",
      "100/100 [==============================] - 0s 757us/step - loss: 0.7950 - val_loss: 0.7989\n",
      "Epoch 21/1000\n",
      "100/100 [==============================] - 0s 767us/step - loss: 0.7947 - val_loss: 0.7986\n",
      "Epoch 22/1000\n",
      "100/100 [==============================] - 0s 757us/step - loss: 0.7949 - val_loss: 0.7987\n"
     ]
    }
   ],
   "source": [
    "history = model.fit(\n",
    "    X, y,\n",
    "    batch_size=8,\n",
    "    epochs=1000,\n",
    "    validation_split=0.2,\n",
    "    callbacks=[early_stopping, lr_schedule],\n",
    ")"
   ]
  },
  {
   "cell_type": "code",
   "execution_count": 192,
   "id": "f0b4af92",
   "metadata": {
    "scrolled": false
   },
   "outputs": [
    {
     "name": "stdout",
     "output_type": "stream",
     "text": [
      "Minimum Loss: 0.7892\n"
     ]
    },
    {
     "data": {
      "text/plain": [
       "<AxesSubplot:>"
      ]
     },
     "execution_count": 192,
     "metadata": {},
     "output_type": "execute_result"
    },
    {
     "data": {
      "image/png": "[encoded data removed]",
      "text/plain": [
       "<Figure size 432x288 with 1 Axes>"
      ]
     },
     "metadata": {},
     "output_type": "display_data"
    },
    {
     "data": {
      "image/png": "[encoded data removed]",
      "text/plain": [
       "<Figure size 432x288 with 1 Axes>"
      ]
     },
     "metadata": {},
     "output_type": "display_data"
    }
   ],
   "source": [
    "history_df = pd.DataFrame(history.history)\n",
    "history_df.loc[:, ['loss', 'val_loss']].plot()\n",
    "print(\"Minimum Loss: {:0.4f}\".format(history_df['val_loss'].min()));\n",
    "history_df.loc[:, ['lr']].plot()"
   ]
  },
  {
   "cell_type": "code",
   "execution_count": 193,
   "id": "a6c42f44",
   "metadata": {},
   "outputs": [
    {
     "data": {
      "image/png": "[encoded data removed]",
      "text/plain": [
       "<Figure size 600x400 with 1 Axes>"
      ]
     },
     "metadata": {},
     "output_type": "display_data"
    }
   ],
   "source": [
    "import tensorflow as tf\n",
    "x = tf.linspace(X.min()*1.5, X.max()*1.5, 100)\n",
    "y_preds = model.predict(x)\n",
    "\n",
    "plt.figure(dpi=100)\n",
    "\n",
    "# dataset\n",
    "plt.plot(\n",
    "    X, y,\n",
    "    marker='.', ls='none', ms=1\n",
    ")\n",
    "# model\n",
    "plt.plot(x, y_preds, 'k')\n",
    "\n",
    "# plt.xlim(-1, 1)\n",
    "# plt.ylim(-1, 1)\n",
    "plt.xlabel(\"Input: x\")\n",
    "plt.ylabel(\"Target y\")\n",
    "w, b = model.weights # you could also use model.get_weights() here\n",
    "plt.title(\"Weight: {:0.2f}\\nBias: {:0.2f}\".format(w[0][0], b[0]))\n",
    "plt.show()"
   ]
  },
  {
   "cell_type": "code",
   "execution_count": 187,
   "id": "d70d9c12",
   "metadata": {
    "scrolled": true
   },
   "outputs": [
    {
     "name": "stdout",
     "output_type": "stream",
     "text": [
      "Model: \"sequential_17\"\n",
      "_________________________________________________________________\n",
      "Layer (type)                 Output Shape              Param #   \n",
      "=================================================================\n",
      "dense_18 (Dense)             (None, 1)                 2         \n",
      "=================================================================\n",
      "Total params: 2\n",
      "Trainable params: 2\n",
      "Non-trainable params: 0\n",
      "_________________________________________________________________\n"
     ]
    }
   ],
   "source": [
    "model.summary()"
   ]
  },
  {
   "cell_type": "code",
   "execution_count": 180,
   "id": "444b63cf",
   "metadata": {},
   "outputs": [
    {
     "data": {
      "text/plain": [
       "{'loss': [8.562309265136719,\n",
       "  7.7472615242004395,\n",
       "  6.95907735824585,\n",
       "  6.262314319610596,\n",
       "  5.593165874481201,\n",
       "  4.986068248748779,\n",
       "  4.405261039733887,\n",
       "  3.8248701095581055,\n",
       "  3.224203109741211,\n",
       "  2.6306095123291016,\n",
       "  2.0619192123413086,\n",
       "  1.52471923828125,\n",
       "  1.0840137004852295,\n",
       "  0.8578185439109802,\n",
       "  0.7929238677024841,\n",
       "  0.8098458647727966,\n",
       "  0.8063923716545105,\n",
       "  0.7975583672523499,\n",
       "  0.7951957583427429,\n",
       "  0.7966414093971252,\n",
       "  0.7950976490974426,\n",
       "  0.7969037890434265,\n",
       "  0.7949087619781494,\n",
       "  0.7985594868659973,\n",
       "  0.7956190705299377,\n",
       "  0.7959797382354736,\n",
       "  0.7974411249160767,\n",
       "  0.7958477735519409,\n",
       "  0.795483410358429,\n",
       "  0.7949460744857788,\n",
       "  0.7948141694068909,\n",
       "  0.7949244976043701,\n",
       "  0.7947630882263184,\n",
       "  0.7948042154312134,\n",
       "  0.7947840094566345,\n",
       "  0.7947738170623779,\n",
       "  0.7949715256690979,\n",
       "  0.7945437431335449],\n",
       " 'val_loss': [16.3725528717041,\n",
       "  15.814409255981445,\n",
       "  15.145642280578613,\n",
       "  14.384490966796875,\n",
       "  13.438994407653809,\n",
       "  12.301352500915527,\n",
       "  10.891423225402832,\n",
       "  9.277691841125488,\n",
       "  7.571887969970703,\n",
       "  5.932614326477051,\n",
       "  4.3746466636657715,\n",
       "  2.8366634845733643,\n",
       "  1.534147024154663,\n",
       "  0.8508666753768921,\n",
       "  0.8047575354576111,\n",
       "  0.8343039155006409,\n",
       "  0.7962584495544434,\n",
       "  0.7949172854423523,\n",
       "  0.7971896529197693,\n",
       "  0.8088383674621582,\n",
       "  0.803936779499054,\n",
       "  0.7947944402694702,\n",
       "  0.7987684011459351,\n",
       "  0.8093055486679077,\n",
       "  0.7975955009460449,\n",
       "  0.7994930148124695,\n",
       "  0.8022854328155518,\n",
       "  0.7961207628250122,\n",
       "  0.7951490879058838,\n",
       "  0.7968528866767883,\n",
       "  0.7979826331138611,\n",
       "  0.7983753681182861,\n",
       "  0.7983947992324829,\n",
       "  0.7987141609191895,\n",
       "  0.7983851432800293,\n",
       "  0.7970847487449646,\n",
       "  0.7974231243133545,\n",
       "  0.7979207038879395],\n",
       " 'lr': [0.1,\n",
       "  0.1,\n",
       "  0.1,\n",
       "  0.1,\n",
       "  0.1,\n",
       "  0.1,\n",
       "  0.1,\n",
       "  0.1,\n",
       "  0.1,\n",
       "  0.1,\n",
       "  0.1,\n",
       "  0.1,\n",
       "  0.1,\n",
       "  0.1,\n",
       "  0.1,\n",
       "  0.1,\n",
       "  0.1,\n",
       "  0.1,\n",
       "  0.1,\n",
       "  0.1,\n",
       "  0.1,\n",
       "  0.1,\n",
       "  0.1,\n",
       "  0.1,\n",
       "  0.1,\n",
       "  0.1,\n",
       "  0.1,\n",
       "  0.05,\n",
       "  0.05,\n",
       "  0.05,\n",
       "  0.05,\n",
       "  0.05,\n",
       "  0.025,\n",
       "  0.025,\n",
       "  0.025,\n",
       "  0.025,\n",
       "  0.025,\n",
       "  0.0125]}"
      ]
     },
     "execution_count": 180,
     "metadata": {},
     "output_type": "execute_result"
    }
   ],
   "source": [
    "history.history"
   ]
  },
  {
   "cell_type": "code",
   "execution_count": null,
   "id": "877188fd",
   "metadata": {},
   "outputs": [],
   "source": []
  },
  {
   "cell_type": "code",
   "execution_count": null,
   "id": "25d1ef6a",
   "metadata": {},
   "outputs": [],
   "source": []
  }
 ],
 "metadata": {
  "kernelspec": {
   "display_name": "Python 3",
   "language": "python",
   "name": "python3"
  },
  "language_info": {
   "codemirror_mode": {
    "name": "ipython",
    "version": 3
   },
   "file_extension": ".py",
   "mimetype": "text/x-python",
   "name": "python",
   "nbconvert_exporter": "python",
   "pygments_lexer": "ipython3",
   "version": "3.9.5"
  }
 },
 "nbformat": 4,
 "nbformat_minor": 5
}
