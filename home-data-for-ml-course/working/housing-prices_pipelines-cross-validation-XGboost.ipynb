{
 "cells": [
  {
   "cell_type": "markdown",
   "id": "58e29249",
   "metadata": {},
   "source": [
    "The \"Housing Prices\" competition is a regression problem: given some info on a house, we determine its selling price.\n",
    "\n",
    "Submissions are evaluated on Root-Mean-Squared-Error (RMSE) between the logarithm of the predicted value and the logarithm of the observed sales price. "
   ]
  },
  {
   "cell_type": "code",
   "execution_count": 1,
   "id": "stunning-olive",
   "metadata": {
    "_cell_guid": "b1076dfc-b9ad-4769-8c92-a6c4dae69d19",
    "_uuid": "8f2839f25d086af736a60e9eeb907d3b93b6e0e5",
    "execution": {
     "iopub.execute_input": "2021-06-30T14:49:45.548388Z",
     "iopub.status.busy": "2021-06-30T14:49:45.547560Z",
     "iopub.status.idle": "2021-06-30T14:49:45.552728Z",
     "shell.execute_reply": "2021-06-30T14:49:45.553295Z",
     "shell.execute_reply.started": "2021-06-30T14:40:28.783404Z"
    },
    "papermill": {
     "duration": 0.022663,
     "end_time": "2021-06-30T14:49:45.553666",
     "exception": false,
     "start_time": "2021-06-30T14:49:45.531003",
     "status": "completed"
    },
    "tags": []
   },
   "outputs": [
    {
     "name": "stdout",
     "output_type": "stream",
     "text": [
      "Setup Complete\n"
     ]
    }
   ],
   "source": [
    "import pandas as pd\n",
    "pd.plotting.register_matplotlib_converters()\n",
    "import matplotlib.pyplot as plt\n",
    "%matplotlib inline\n",
    "import seaborn as sns\n",
    "print(\"Setup Complete\")"
   ]
  },
  {
   "cell_type": "markdown",
   "id": "fe74a4e1",
   "metadata": {},
   "source": [
    "# Step 1: Gather the Data"
   ]
  },
  {
   "cell_type": "markdown",
   "id": "6fffeba9",
   "metadata": {},
   "source": [
    "### Checking the format of the data"
   ]
  },
  {
   "cell_type": "code",
   "execution_count": 2,
   "id": "7c2ecaf4",
   "metadata": {
    "execution": {
     "iopub.execute_input": "2021-06-30T14:49:45.575453Z",
     "iopub.status.busy": "2021-06-30T14:49:45.574725Z",
     "iopub.status.idle": "2021-06-30T14:49:45.632052Z",
     "shell.execute_reply": "2021-06-30T14:49:45.631434Z",
     "shell.execute_reply.started": "2021-06-30T14:43:10.103098Z"
    },
    "papermill": {
     "duration": 0.070117,
     "end_time": "2021-06-30T14:49:45.632223",
     "exception": false,
     "start_time": "2021-06-30T14:49:45.562106",
     "status": "completed"
    },
    "scrolled": true,
    "tags": []
   },
   "outputs": [],
   "source": [
    "train_data = pd.read_csv(\"../input/train.csv\", index_col='Id')\n",
    "test_data = pd.read_csv(\"../input/test.csv\", index_col=\"Id\")\n",
    "\n",
    "# train_data.head()\n",
    "# test_data.head()"
   ]
  },
  {
   "cell_type": "markdown",
   "id": "24807192",
   "metadata": {},
   "source": [
    "# Step 2: Prepare the Data"
   ]
  },
  {
   "cell_type": "code",
   "execution_count": 3,
   "id": "791e635e",
   "metadata": {},
   "outputs": [],
   "source": [
    "# Separate target from predictors\n",
    "y = train_data.SalePrice\n",
    "X_full = train_data.drop(['SalePrice'], axis=1)"
   ]
  },
  {
   "cell_type": "code",
   "execution_count": 4,
   "id": "49fd3219",
   "metadata": {},
   "outputs": [
    {
     "name": "stdout",
     "output_type": "stream",
     "text": [
      "['LotFrontage', 'Alley', 'MasVnrType', 'MasVnrArea', 'BsmtQual', 'BsmtCond', 'BsmtExposure', 'BsmtFinType1', 'BsmtFinType2', 'Electrical', 'FireplaceQu', 'GarageType', 'GarageYrBlt', 'GarageFinish', 'GarageQual', 'GarageCond', 'PoolQC', 'Fence', 'MiscFeature']\n",
      "X_reduced.shape =  (1460, 60)\n",
      "['MSZoning', 'Street', 'LotShape', 'LandContour', 'Utilities', 'LotConfig', 'LandSlope', 'Condition1', 'Condition2', 'BldgType', 'HouseStyle', 'RoofStyle', 'RoofMatl', 'ExterQual', 'ExterCond', 'Foundation', 'Heating', 'HeatingQC', 'CentralAir', 'KitchenQual', 'Functional', 'PavedDrive', 'SaleType', 'SaleCondition']\n"
     ]
    }
   ],
   "source": [
    "# Drop columns with missing values (simplest approach)\n",
    "cols_with_na = [col for col in X_full.columns if X_full[col].isnull().any()]\n",
    "X_reduced = X_full.drop(cols_with_na, axis=1)\n",
    "\n",
    "print(cols_with_na)\n",
    "print(\"X_reduced.shape = \", X_reduced.shape)\n",
    "\n",
    "# \"Cardinality\" means the number of unique values in a column\n",
    "# Select categorical columns with relatively low cardinality (convenient but arbitrary)\n",
    "def has_low_cardinality(df, col):\n",
    "    is_categorical = (df[col].dtype == \"object\")\n",
    "    has_low_card = (df[col].nunique() < 10)\n",
    "    return (is_categorical and has_low_card)\n",
    "\n",
    "categorical_cols = [col for col in X_reduced.columns if has_low_cardinality(X_reduced, col)]\n",
    "print(categorical_cols)\n",
    "\n",
    "# Select numerical columns\n",
    "numerical_cols = [col for col in X_reduced.columns if X_reduced[col].dtype in ['int64', 'float64']]\n",
    "\n",
    "# Keep selected columns only\n",
    "my_cols = categorical_cols + numerical_cols\n",
    "X = X_reduced[my_cols].copy()\n",
    "\n",
    "# Divide data into training and validation subsets\n",
    "from sklearn.model_selection import train_test_split\n",
    "X_train, X_valid, y_train, y_valid = train_test_split(X, y, train_size=0.8, test_size=0.2,\n",
    "                                                                random_state=0)"
   ]
  },
  {
   "cell_type": "markdown",
   "id": "02391495",
   "metadata": {},
   "source": [
    "## Defining the Preprocessing Pipeline"
   ]
  },
  {
   "cell_type": "code",
   "execution_count": 5,
   "id": "2b89eee0",
   "metadata": {},
   "outputs": [],
   "source": [
    "from sklearn.compose import ColumnTransformer\n",
    "from sklearn.pipeline import Pipeline\n",
    "from sklearn.impute import SimpleImputer\n",
    "from sklearn.preprocessing import OneHotEncoder\n",
    "\n",
    "# Preprocessing for numerical data\n",
    "numerical_transformer = SimpleImputer(strategy='constant')\n",
    "\n",
    "# Preprocessing for categorical data\n",
    "categorical_transformer = Pipeline(steps=[\n",
    "    ('imputer', SimpleImputer(strategy='most_frequent')),\n",
    "     ('onehot', OneHotEncoder(handle_unknown='ignore'))\n",
    "])\n",
    "\n",
    "# Bundle preprocessing for numerical and categorical data\n",
    "preprocessor = ColumnTransformer(\n",
    "    transformers=[\n",
    "        ('num', numerical_transformer, numerical_cols),\n",
    "        ('cat', categorical_transformer, categorical_cols)\n",
    "    ])"
   ]
  },
  {
   "cell_type": "markdown",
   "id": "e22d0be0",
   "metadata": {},
   "source": [
    "## Select the model"
   ]
  },
  {
   "cell_type": "code",
   "execution_count": 6,
   "id": "8db5717e",
   "metadata": {},
   "outputs": [],
   "source": [
    "from sklearn.ensemble import RandomForestRegressor\n",
    "\n",
    "model_rfr = RandomForestRegressor(n_estimators=100, random_state=0)\n",
    "\n",
    "from xgboost import XGBRegressor\n",
    "\n",
    "model_xgb = XGBRegressor(n_estimators=1000, learning_rate=0.05, n_jobs=4)"
   ]
  },
  {
   "cell_type": "markdown",
   "id": "bb4cb477",
   "metadata": {},
   "source": [
    "## Create and Evaluate the Pipeline"
   ]
  },
  {
   "cell_type": "code",
   "execution_count": 7,
   "id": "2ea5be08",
   "metadata": {
    "scrolled": true
   },
   "outputs": [
    {
     "name": "stdout",
     "output_type": "stream",
     "text": [
      "[0]\tvalidation_0-rmse:190107.76562\n",
      "[1]\tvalidation_0-rmse:181148.23438\n",
      "[2]\tvalidation_0-rmse:172722.95312\n",
      "[3]\tvalidation_0-rmse:164668.25000\n",
      "[4]\tvalidation_0-rmse:157119.00000\n",
      "[5]\tvalidation_0-rmse:150043.76562\n",
      "[6]\tvalidation_0-rmse:143190.25000\n",
      "[7]\tvalidation_0-rmse:136573.67188\n",
      "[8]\tvalidation_0-rmse:130510.42969\n",
      "[9]\tvalidation_0-rmse:124651.79688\n",
      "[10]\tvalidation_0-rmse:119300.82031\n",
      "[11]\tvalidation_0-rmse:113977.19531\n",
      "[12]\tvalidation_0-rmse:108955.65625\n",
      "[13]\tvalidation_0-rmse:104182.27344\n",
      "[14]\tvalidation_0-rmse:99604.54688\n",
      "[15]\tvalidation_0-rmse:95340.80469\n",
      "[16]\tvalidation_0-rmse:91263.12500\n",
      "[17]\tvalidation_0-rmse:87490.56250\n",
      "[18]\tvalidation_0-rmse:83952.66406\n",
      "[19]\tvalidation_0-rmse:80471.41406\n",
      "[20]\tvalidation_0-rmse:77251.25000\n",
      "[21]\tvalidation_0-rmse:74092.60938\n",
      "[22]\tvalidation_0-rmse:71221.00781\n",
      "[23]\tvalidation_0-rmse:68510.76562\n",
      "[24]\tvalidation_0-rmse:65979.81250\n",
      "[25]\tvalidation_0-rmse:63577.80469\n",
      "[26]\tvalidation_0-rmse:61343.36719\n",
      "[27]\tvalidation_0-rmse:59112.32812\n",
      "[28]\tvalidation_0-rmse:57151.36719\n",
      "[29]\tvalidation_0-rmse:55288.10938\n",
      "[30]\tvalidation_0-rmse:53480.64453\n",
      "[31]\tvalidation_0-rmse:51800.41406\n",
      "[32]\tvalidation_0-rmse:50217.24219\n",
      "[33]\tvalidation_0-rmse:48732.68359\n",
      "[34]\tvalidation_0-rmse:47390.36719\n",
      "[35]\tvalidation_0-rmse:46118.41016\n",
      "[36]\tvalidation_0-rmse:44828.67969\n",
      "[37]\tvalidation_0-rmse:43604.53906\n",
      "[38]\tvalidation_0-rmse:42561.70312\n",
      "[39]\tvalidation_0-rmse:41506.82031\n",
      "[40]\tvalidation_0-rmse:40633.46875\n",
      "[41]\tvalidation_0-rmse:39811.30078\n",
      "[42]\tvalidation_0-rmse:39063.81250\n",
      "[43]\tvalidation_0-rmse:38264.45312\n",
      "[44]\tvalidation_0-rmse:37528.68750\n",
      "[45]\tvalidation_0-rmse:36844.70312\n",
      "[46]\tvalidation_0-rmse:36223.03906\n",
      "[47]\tvalidation_0-rmse:35609.09766\n",
      "[48]\tvalidation_0-rmse:35064.33984\n",
      "[49]\tvalidation_0-rmse:34568.99609\n",
      "[50]\tvalidation_0-rmse:34093.88281\n",
      "[51]\tvalidation_0-rmse:33640.93750\n",
      "[52]\tvalidation_0-rmse:33228.14453\n",
      "[53]\tvalidation_0-rmse:32839.73047\n",
      "[54]\tvalidation_0-rmse:32469.72852\n",
      "[55]\tvalidation_0-rmse:32146.42773\n",
      "[56]\tvalidation_0-rmse:31841.66992\n",
      "[57]\tvalidation_0-rmse:31551.96484\n",
      "[58]\tvalidation_0-rmse:31283.04102\n",
      "[59]\tvalidation_0-rmse:30990.92383\n",
      "[60]\tvalidation_0-rmse:30764.52734\n",
      "[61]\tvalidation_0-rmse:30548.55859\n",
      "[62]\tvalidation_0-rmse:30327.94727\n",
      "[63]\tvalidation_0-rmse:30105.91797\n",
      "[64]\tvalidation_0-rmse:29922.03125\n",
      "[65]\tvalidation_0-rmse:29854.88477\n",
      "[66]\tvalidation_0-rmse:29683.90820\n",
      "[67]\tvalidation_0-rmse:29612.08789\n",
      "[68]\tvalidation_0-rmse:29441.16016\n",
      "[69]\tvalidation_0-rmse:29374.10156\n",
      "[70]\tvalidation_0-rmse:29243.42773\n",
      "[71]\tvalidation_0-rmse:29094.47656\n",
      "[72]\tvalidation_0-rmse:28973.98633\n",
      "[73]\tvalidation_0-rmse:28850.06250\n",
      "[74]\tvalidation_0-rmse:28752.90430\n",
      "[75]\tvalidation_0-rmse:28738.51172\n",
      "[76]\tvalidation_0-rmse:28727.90820\n",
      "[77]\tvalidation_0-rmse:28664.24023\n",
      "[78]\tvalidation_0-rmse:28591.55664\n",
      "[79]\tvalidation_0-rmse:28546.58203\n",
      "[80]\tvalidation_0-rmse:28537.05859\n",
      "[81]\tvalidation_0-rmse:28528.85742\n",
      "[82]\tvalidation_0-rmse:28452.17383\n",
      "[83]\tvalidation_0-rmse:28402.84961\n",
      "[84]\tvalidation_0-rmse:28348.56445\n",
      "[85]\tvalidation_0-rmse:28302.81836\n",
      "[86]\tvalidation_0-rmse:28252.68945\n",
      "[87]\tvalidation_0-rmse:28185.70117\n",
      "[88]\tvalidation_0-rmse:28130.52930\n",
      "[89]\tvalidation_0-rmse:28084.82031\n",
      "[90]\tvalidation_0-rmse:28028.14453\n",
      "[91]\tvalidation_0-rmse:27965.79883\n",
      "[92]\tvalidation_0-rmse:27927.77148\n",
      "[93]\tvalidation_0-rmse:27902.47852\n",
      "[94]\tvalidation_0-rmse:27870.96875\n",
      "[95]\tvalidation_0-rmse:27844.94922\n",
      "[96]\tvalidation_0-rmse:27787.18359\n",
      "[97]\tvalidation_0-rmse:27733.15430\n",
      "[98]\tvalidation_0-rmse:27697.00586\n",
      "[99]\tvalidation_0-rmse:27654.72461\n",
      "[100]\tvalidation_0-rmse:27631.92383\n",
      "[101]\tvalidation_0-rmse:27585.28125\n",
      "[102]\tvalidation_0-rmse:27541.01953\n",
      "[103]\tvalidation_0-rmse:27512.25977\n",
      "[104]\tvalidation_0-rmse:27492.42578\n",
      "[105]\tvalidation_0-rmse:27463.14648\n",
      "[106]\tvalidation_0-rmse:27449.01367\n",
      "[107]\tvalidation_0-rmse:27428.23438\n",
      "[108]\tvalidation_0-rmse:27425.22656\n",
      "[109]\tvalidation_0-rmse:27429.36328\n",
      "[110]\tvalidation_0-rmse:27426.74023\n",
      "[111]\tvalidation_0-rmse:27410.50586\n",
      "[112]\tvalidation_0-rmse:27389.81250\n",
      "[113]\tvalidation_0-rmse:27351.71680\n",
      "[114]\tvalidation_0-rmse:27336.38672\n",
      "[115]\tvalidation_0-rmse:27323.16406\n",
      "[116]\tvalidation_0-rmse:27307.44531\n",
      "[117]\tvalidation_0-rmse:27302.64062\n",
      "[118]\tvalidation_0-rmse:27284.60938\n",
      "[119]\tvalidation_0-rmse:27286.91602\n",
      "[120]\tvalidation_0-rmse:27289.29883\n",
      "[121]\tvalidation_0-rmse:27292.64453\n",
      "[122]\tvalidation_0-rmse:27296.25000\n",
      "Mean Absolute Error: 16824.68509203767\n"
     ]
    }
   ],
   "source": [
    "from sklearn.metrics import mean_absolute_error\n",
    "\n",
    "# Bundle preprocessing and modeling code in a pipeline\n",
    "my_pipeline = Pipeline(steps=[('preprocessor', preprocessor),\n",
    "                              ('model', model_xgb)\n",
    "                             ])\n",
    "\n",
    "# fitting the preprocessor step\n",
    "preprocessor.fit(X_train)\n",
    "X_valid_transformed = preprocessor.transform(X_valid)\n",
    "\n",
    "my_pipeline.fit(X_train, y_train, \n",
    "                model__early_stopping_rounds=5, \n",
    "                model__eval_set=[(X_valid_transformed, y_valid)],\n",
    "                model__verbose=True)\n",
    "\n",
    "predictions = my_pipeline.predict(X_valid)\n",
    "print(\"Mean Absolute Error: \" + str(mean_absolute_error(predictions, y_valid)))"
   ]
  },
  {
   "cell_type": "code",
   "execution_count": 8,
   "id": "15adffed",
   "metadata": {},
   "outputs": [
    {
     "name": "stderr",
     "output_type": "stream",
     "text": [
      "[Parallel(n_jobs=4)]: Using backend LokyBackend with 4 concurrent workers.\n"
     ]
    },
    {
     "name": "stdout",
     "output_type": "stream",
     "text": [
      "MAE scores:\n",
      " [16662.45977445 16732.63641395 16671.21772119]\n"
     ]
    },
    {
     "name": "stderr",
     "output_type": "stream",
     "text": [
      "[Parallel(n_jobs=4)]: Done   3 out of   3 | elapsed:    2.7s finished\n"
     ]
    }
   ],
   "source": [
    "from sklearn.model_selection import cross_val_score\n",
    "\n",
    "final_pipeline =  Pipeline(steps=[\n",
    "    ('preprocessor', preprocessor),\n",
    "    ('model', XGBRegressor(n_estimators=123, learning_rate=0.05, n_jobs=4))\n",
    "])\n",
    "\n",
    "\n",
    "# Multiply by -1 since sklearn calculates *negative* MAE\n",
    "scores = -1 * cross_val_score(\n",
    "    final_pipeline, X, y,\n",
    "    cv=3,\n",
    "    n_jobs=4,\n",
    "    scoring='neg_mean_absolute_error',\n",
    "    verbose=True,\n",
    ")\n",
    "\n",
    "print(\"MAE scores:\\n\", scores)"
   ]
  },
  {
   "cell_type": "code",
   "execution_count": null,
   "id": "d3fdebfb",
   "metadata": {},
   "outputs": [],
   "source": []
  }
 ],
 "metadata": {
  "kernelspec": {
   "display_name": "Python 3",
   "language": "python",
   "name": "python3"
  },
  "language_info": {
   "codemirror_mode": {
    "name": "ipython",
    "version": 3
   },
   "file_extension": ".py",
   "mimetype": "text/x-python",
   "name": "python",
   "nbconvert_exporter": "python",
   "pygments_lexer": "ipython3",
   "version": "3.9.5"
  },
  "papermill": {
   "default_parameters": {},
   "duration": 9.891266,
   "end_time": "2021-06-30T14:49:48.387590",
   "environment_variables": {},
   "exception": null,
   "input_path": "__notebook__.ipynb",
   "output_path": "__notebook__.ipynb",
   "parameters": {},
   "start_time": "2021-06-30T14:49:38.496324",
   "version": "2.3.2"
  }
 },
 "nbformat": 4,
 "nbformat_minor": 5
}
