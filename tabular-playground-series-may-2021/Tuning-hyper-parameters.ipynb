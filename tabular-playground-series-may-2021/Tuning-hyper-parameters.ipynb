{
 "cells": [
  {
   "cell_type": "markdown",
   "id": "acb1151b",
   "metadata": {},
   "source": [
    "The dataset is used for this competition is synthetic, but based on a real dataset and generated using a CTGAN. The original dataset deals with predicting the category on an eCommerce product given various attributes about the listing. Although the features are anonymized, they have properties relating to real-world features.\n",
    "\n",
    "Submissions are evaluated using multi-class logarithmic loss."
   ]
  },
  {
   "cell_type": "code",
   "execution_count": 1,
   "id": "fc1282fa",
   "metadata": {},
   "outputs": [
    {
     "name": "stdout",
     "output_type": "stream",
     "text": [
      "Setup Complete\n"
     ]
    }
   ],
   "source": [
    "import pandas as pd\n",
    "pd.plotting.register_matplotlib_converters()\n",
    "import matplotlib.pyplot as plt\n",
    "%matplotlib inline\n",
    "import seaborn as sns\n",
    "print(\"Setup Complete\")"
   ]
  },
  {
   "cell_type": "code",
   "execution_count": 2,
   "id": "73d22df6",
   "metadata": {},
   "outputs": [],
   "source": [
    "train_data = pd.read_csv(\"../input/tabular-playground-series-may-2021/train.csv\", index_col=\"id\")\n",
    "test_data = pd.read_csv(\"../input/tabular-playground-series-may-2021/test.csv\", index_col=\"id\")\n",
    "\n",
    "# train_data.head()\n",
    "# test_data.head()"
   ]
  },
  {
   "cell_type": "markdown",
   "id": "7d128d68",
   "metadata": {},
   "source": [
    "Ok, so the dataset is clean. There is no missing data. "
   ]
  },
  {
   "cell_type": "code",
   "execution_count": 3,
   "id": "a1acc1a4",
   "metadata": {},
   "outputs": [],
   "source": [
    "y = train_data[\"target\"]\n",
    "X = train_data.drop(columns=\"target\")"
   ]
  },
  {
   "cell_type": "code",
   "execution_count": 5,
   "id": "1c0300da",
   "metadata": {},
   "outputs": [
    {
     "name": "stdout",
     "output_type": "stream",
     "text": [
      "There are 4 classes:\n",
      " ['Class_2', 'Class_1', 'Class_4', 'Class_3']\n"
     ]
    }
   ],
   "source": [
    "classes = list(y.unique())\n",
    "print(f\"There are {len(classes)} classes:\\n {classes}\")"
   ]
  },
  {
   "cell_type": "markdown",
   "id": "6735dd03",
   "metadata": {},
   "source": [
    "# Tuning hyper-parameters"
   ]
  },
  {
   "cell_type": "markdown",
   "id": "0f362a15",
   "metadata": {},
   "source": [
    "For tuning hyper-parameters, a search consists of:\n",
    "- an estimator (regressor or classifier)\n",
    "- a parameter space\n",
    "- a method for searching or sampling candidates\n",
    "- a cross-validation scheme\n",
    "- a score function\n"
   ]
  },
  {
   "cell_type": "markdown",
   "id": "e64ab339",
   "metadata": {},
   "source": [
    "## Estimators"
   ]
  },
  {
   "cell_type": "code",
   "execution_count": 18,
   "id": "8a68c629",
   "metadata": {},
   "outputs": [],
   "source": [
    "from sklearn.tree import DecisionTreeClassifier\n",
    "from sklearn.ensemble import (\n",
    "    RandomForestClassifier,\n",
    "    ExtraTreesClassifier,\n",
    "    AdaBoostClassifier\n",
    ")\n",
    "\n",
    "n_estimators = 30\n",
    "\n",
    "clf_0 = DecisionTreeClassifier(max_depth=None)\n",
    "clf_1 = RandomForestClassifier(n_estimators=n_estimators, n_jobs=-1)\n",
    "clf_2 = ExtraTreesClassifier(n_estimators=n_estimators)\n",
    "clf_3 = AdaBoostClassifier(DecisionTreeClassifier(max_depth=3), n_estimators=n_estimators)\n",
    "\n",
    "models = [clf_0, clf_1, clf_2, clf_3]"
   ]
  },
  {
   "cell_type": "markdown",
   "id": "1add112e",
   "metadata": {},
   "source": [
    "## Parameter space"
   ]
  },
  {
   "cell_type": "code",
   "execution_count": 7,
   "id": "eea4dd16",
   "metadata": {
    "scrolled": false
   },
   "outputs": [
    {
     "name": "stdout",
     "output_type": "stream",
     "text": [
      "{'ccp_alpha': 0.0, 'class_weight': None, 'criterion': 'gini', 'max_depth': None, 'max_features': None, 'max_leaf_nodes': None, 'min_impurity_decrease': 0.0, 'min_impurity_split': None, 'min_samples_leaf': 1, 'min_samples_split': 2, 'min_weight_fraction_leaf': 0.0, 'random_state': None, 'splitter': 'best'}\n",
      "{'bootstrap': True, 'ccp_alpha': 0.0, 'class_weight': None, 'criterion': 'gini', 'max_depth': None, 'max_features': 'auto', 'max_leaf_nodes': None, 'max_samples': None, 'min_impurity_decrease': 0.0, 'min_impurity_split': None, 'min_samples_leaf': 1, 'min_samples_split': 2, 'min_weight_fraction_leaf': 0.0, 'n_estimators': 30, 'n_jobs': None, 'oob_score': False, 'random_state': None, 'verbose': 0, 'warm_start': False}\n",
      "{'bootstrap': False, 'ccp_alpha': 0.0, 'class_weight': None, 'criterion': 'gini', 'max_depth': None, 'max_features': 'auto', 'max_leaf_nodes': None, 'max_samples': None, 'min_impurity_decrease': 0.0, 'min_impurity_split': None, 'min_samples_leaf': 1, 'min_samples_split': 2, 'min_weight_fraction_leaf': 0.0, 'n_estimators': 30, 'n_jobs': None, 'oob_score': False, 'random_state': None, 'verbose': 0, 'warm_start': False}\n",
      "{'algorithm': 'SAMME.R', 'base_estimator__ccp_alpha': 0.0, 'base_estimator__class_weight': None, 'base_estimator__criterion': 'gini', 'base_estimator__max_depth': 3, 'base_estimator__max_features': None, 'base_estimator__max_leaf_nodes': None, 'base_estimator__min_impurity_decrease': 0.0, 'base_estimator__min_impurity_split': None, 'base_estimator__min_samples_leaf': 1, 'base_estimator__min_samples_split': 2, 'base_estimator__min_weight_fraction_leaf': 0.0, 'base_estimator__random_state': None, 'base_estimator__splitter': 'best', 'base_estimator': DecisionTreeClassifier(max_depth=3), 'learning_rate': 1.0, 'n_estimators': 30, 'random_state': None}\n"
     ]
    }
   ],
   "source": [
    "# checking the parameters for all models\n",
    "for clf in models:\n",
    "    print(clf.get_params())"
   ]
  },
  {
   "cell_type": "code",
   "execution_count": 8,
   "id": "e34594c9",
   "metadata": {},
   "outputs": [],
   "source": [
    "# Let's focus on the second model: RandomForest\n",
    "param_grid = [\n",
    "    {'n_estimators': [10, 30, 50, 100]},\n",
    "]"
   ]
  },
  {
   "cell_type": "markdown",
   "id": "9069e0c1",
   "metadata": {},
   "source": [
    "## Cross-validation scheme"
   ]
  },
  {
   "cell_type": "code",
   "execution_count": 23,
   "id": "d379324e",
   "metadata": {},
   "outputs": [],
   "source": [
    "from sklearn.model_selection import RepeatedStratifiedKFold\n",
    "cv = RepeatedStratifiedKFold(\n",
    "    n_splits=10, n_repeats=1, random_state=0\n",
    ")"
   ]
  },
  {
   "cell_type": "markdown",
   "id": "16fab335",
   "metadata": {},
   "source": [
    "## Score function"
   ]
  },
  {
   "cell_type": "code",
   "execution_count": 24,
   "id": "6b7c2fb6",
   "metadata": {},
   "outputs": [],
   "source": [
    "from sklearn.metrics import log_loss"
   ]
  },
  {
   "cell_type": "code",
   "execution_count": 29,
   "id": "1a737084",
   "metadata": {},
   "outputs": [
    {
     "data": {
      "text/plain": [
       "20.697044092773496"
      ]
     },
     "execution_count": 29,
     "metadata": {},
     "output_type": "execute_result"
    }
   ],
   "source": [
    "clf_0.fit(X,y)\n",
    "from sklearn.model_selection import train_test_split\n",
    "\n",
    "X_train, X_test, y_train, y_test = train_test_split(X, y)\n",
    "clf_0.fit(X_train, y_train)\n",
    "proba_preds = clf_0.predict_proba(X_test)\n",
    "\n",
    "log_loss(y_test, proba_preds)"
   ]
  },
  {
   "cell_type": "code",
   "execution_count": 42,
   "id": "4a71eecd",
   "metadata": {},
   "outputs": [
    {
     "data": {
      "text/plain": [
       "array([[0., 1., 0., 0.],\n",
       "       [0., 1., 0., 0.],\n",
       "       [0., 1., 0., 0.],\n",
       "       ...,\n",
       "       [0., 0., 1., 0.],\n",
       "       [0., 0., 1., 0.],\n",
       "       [0., 0., 1., 0.]])"
      ]
     },
     "execution_count": 42,
     "metadata": {},
     "output_type": "execute_result"
    }
   ],
   "source": [
    "from sklearn.preprocessing import OneHotEncoder\n",
    "onehot = OneHotEncoder()\n",
    "y_true = onehot.fit_transform(pd.DataFrame(y_test)).toarray()\n",
    "log_loss(y_true, proba_preds)\n",
    "proba_preds"
   ]
  },
  {
   "cell_type": "code",
   "execution_count": 45,
   "id": "658399b8",
   "metadata": {},
   "outputs": [
    {
     "name": "stderr",
     "output_type": "stream",
     "text": [
      "[Parallel(n_jobs=1)]: Using backend SequentialBackend with 1 concurrent workers.\n"
     ]
    },
    {
     "name": "stdout",
     "output_type": "stream",
     "text": [
      "[CV] END .............................. score: (test=-20.254) total time=   2.3s\n"
     ]
    },
    {
     "name": "stderr",
     "output_type": "stream",
     "text": [
      "[Parallel(n_jobs=1)]: Done   1 out of   1 | elapsed:    2.4s remaining:    0.0s\n"
     ]
    },
    {
     "name": "stdout",
     "output_type": "stream",
     "text": [
      "[CV] END .............................. score: (test=-20.571) total time=   2.3s\n"
     ]
    },
    {
     "name": "stderr",
     "output_type": "stream",
     "text": [
      "[Parallel(n_jobs=1)]: Done   2 out of   2 | elapsed:    4.8s remaining:    0.0s\n"
     ]
    },
    {
     "name": "stdout",
     "output_type": "stream",
     "text": [
      "[CV] END .............................. score: (test=-20.388) total time=   2.3s\n",
      "[CV] END .............................. score: (test=-20.678) total time=   2.2s\n",
      "[CV] END .............................. score: (test=-21.034) total time=   2.2s\n",
      "[CV] END .............................. score: (test=-20.810) total time=   2.3s\n",
      "[CV] END .............................. score: (test=-20.637) total time=   2.2s\n",
      "[CV] END .............................. score: (test=-20.568) total time=   2.3s\n",
      "[CV] END .............................. score: (test=-20.692) total time=   2.2s\n",
      "[CV] END .............................. score: (test=-20.447) total time=   2.3s\n",
      "Score mean = -20.60793404967463 +- 0.06618312025456134\n",
      "Score variance = 0.20928940266123675\n"
     ]
    },
    {
     "name": "stderr",
     "output_type": "stream",
     "text": [
      "[Parallel(n_jobs=1)]: Done  10 out of  10 | elapsed:   23.7s finished\n"
     ]
    }
   ],
   "source": [
    "from sklearn.model_selection import cross_val_score\n",
    "\n",
    "scores = cross_val_score(\n",
    "    clf_0, X, y,\n",
    "    cv=cv,\n",
    "    scoring=\"neg_log_loss\",\n",
    "    verbose=3\n",
    ")\n",
    "# print(f\"Using cross-validation = {scores}\")\n",
    "\n",
    "score_mean = scores.mean()\n",
    "score_std = scores.std()\n",
    "\n",
    "print(f\"Score mean = {score_mean} +- {score_std/(scores.size)**0.5}\")\n",
    "print(f\"Score variance = {score_std}\")\n"
   ]
  },
  {
   "cell_type": "markdown",
   "id": "30ea331f",
   "metadata": {},
   "source": [
    "## Searching method"
   ]
  },
  {
   "cell_type": "markdown",
   "id": "d7e2c8ca",
   "metadata": {},
   "source": [
    "### Exhaustive Grid Search"
   ]
  },
  {
   "cell_type": "code",
   "execution_count": 50,
   "id": "13a9b805",
   "metadata": {},
   "outputs": [
    {
     "name": "stdout",
     "output_type": "stream",
     "text": [
      "Fitting 10 folds for each of 3 candidates, totalling 30 fits\n",
      "[CV 1/10] END .....................max_depth=3;, score=-1.115 total time=   0.3s\n",
      "[CV 2/10] END .....................max_depth=3;, score=-1.114 total time=   0.3s\n",
      "[CV 3/10] END .....................max_depth=3;, score=-1.116 total time=   0.3s\n",
      "[CV 4/10] END .....................max_depth=3;, score=-1.113 total time=   0.3s\n",
      "[CV 5/10] END .....................max_depth=3;, score=-1.114 total time=   0.3s\n",
      "[CV 6/10] END .....................max_depth=3;, score=-1.116 total time=   0.3s\n",
      "[CV 7/10] END .....................max_depth=3;, score=-1.114 total time=   0.3s\n",
      "[CV 8/10] END .....................max_depth=3;, score=-1.116 total time=   0.3s\n",
      "[CV 9/10] END .....................max_depth=3;, score=-1.114 total time=   0.3s\n",
      "[CV 10/10] END ....................max_depth=3;, score=-1.115 total time=   0.3s\n",
      "[CV 1/10] END .....................max_depth=4;, score=-1.114 total time=   0.4s\n",
      "[CV 2/10] END .....................max_depth=4;, score=-1.113 total time=   0.4s\n",
      "[CV 3/10] END .....................max_depth=4;, score=-1.115 total time=   0.4s\n",
      "[CV 4/10] END .....................max_depth=4;, score=-1.119 total time=   0.4s\n",
      "[CV 5/10] END .....................max_depth=4;, score=-1.114 total time=   0.3s\n",
      "[CV 6/10] END .....................max_depth=4;, score=-1.115 total time=   0.3s\n",
      "[CV 7/10] END .....................max_depth=4;, score=-1.114 total time=   0.3s\n",
      "[CV 8/10] END .....................max_depth=4;, score=-1.114 total time=   0.3s\n",
      "[CV 9/10] END .....................max_depth=4;, score=-1.113 total time=   0.3s\n",
      "[CV 10/10] END ....................max_depth=4;, score=-1.118 total time=   0.3s\n",
      "[CV 1/10] END .....................max_depth=5;, score=-1.120 total time=   0.4s\n",
      "[CV 2/10] END .....................max_depth=5;, score=-1.116 total time=   0.4s\n",
      "[CV 3/10] END .....................max_depth=5;, score=-1.121 total time=   0.4s\n",
      "[CV 4/10] END .....................max_depth=5;, score=-1.120 total time=   0.4s\n",
      "[CV 5/10] END .....................max_depth=5;, score=-1.120 total time=   0.4s\n",
      "[CV 6/10] END .....................max_depth=5;, score=-1.128 total time=   0.5s\n",
      "[CV 7/10] END .....................max_depth=5;, score=-1.120 total time=   0.4s\n",
      "[CV 8/10] END .....................max_depth=5;, score=-1.121 total time=   0.4s\n",
      "[CV 9/10] END .....................max_depth=5;, score=-1.115 total time=   0.5s\n",
      "[CV 10/10] END ....................max_depth=5;, score=-1.121 total time=   0.4s\n"
     ]
    },
    {
     "data": {
      "text/plain": [
       "GridSearchCV(cv=RepeatedStratifiedKFold(n_repeats=1, n_splits=10, random_state=0),\n",
       "             estimator=DecisionTreeClassifier(),\n",
       "             param_grid=[{'max_depth': [3, 4, 5]}], scoring='neg_log_loss',\n",
       "             verbose=4)"
      ]
     },
     "execution_count": 50,
     "metadata": {},
     "output_type": "execute_result"
    }
   ],
   "source": [
    "from sklearn.model_selection import GridSearchCV\n",
    "\n",
    "param_grid = [\n",
    "    {'max_depth': [3, 4, 5]},\n",
    "]\n",
    "\n",
    "search = GridSearchCV(\n",
    "    estimator=clf_0, param_grid=param_grid,\n",
    "    scoring='neg_log_loss', cv=cv,\n",
    "    verbose=4\n",
    ")\n",
    "search.fit(X, y)"
   ]
  },
  {
   "cell_type": "code",
   "execution_count": 51,
   "id": "d31c4d75",
   "metadata": {},
   "outputs": [
    {
     "data": {
      "text/html": [
       "<div>\n",
       "<style scoped>\n",
       "    .dataframe tbody tr th:only-of-type {\n",
       "        vertical-align: middle;\n",
       "    }\n",
       "\n",
       "    .dataframe tbody tr th {\n",
       "        vertical-align: top;\n",
       "    }\n",
       "\n",
       "    .dataframe thead th {\n",
       "        text-align: right;\n",
       "    }\n",
       "</style>\n",
       "<table border=\"1\" class=\"dataframe\">\n",
       "  <thead>\n",
       "    <tr style=\"text-align: right;\">\n",
       "      <th></th>\n",
       "      <th>params</th>\n",
       "      <th>rank_test_score</th>\n",
       "      <th>mean_test_score</th>\n",
       "      <th>std_test_score</th>\n",
       "    </tr>\n",
       "    <tr>\n",
       "      <th>n_estimators</th>\n",
       "      <th></th>\n",
       "      <th></th>\n",
       "      <th></th>\n",
       "      <th></th>\n",
       "    </tr>\n",
       "  </thead>\n",
       "  <tbody>\n",
       "    <tr>\n",
       "      <th>3</th>\n",
       "      <td>{'max_depth': 3}</td>\n",
       "      <td>1</td>\n",
       "      <td>-1.114662</td>\n",
       "      <td>0.000963</td>\n",
       "    </tr>\n",
       "    <tr>\n",
       "      <th>4</th>\n",
       "      <td>{'max_depth': 4}</td>\n",
       "      <td>2</td>\n",
       "      <td>-1.114889</td>\n",
       "      <td>0.002035</td>\n",
       "    </tr>\n",
       "    <tr>\n",
       "      <th>5</th>\n",
       "      <td>{'max_depth': 5}</td>\n",
       "      <td>3</td>\n",
       "      <td>-1.120137</td>\n",
       "      <td>0.003274</td>\n",
       "    </tr>\n",
       "  </tbody>\n",
       "</table>\n",
       "</div>"
      ],
      "text/plain": [
       "                        params  rank_test_score  mean_test_score  \\\n",
       "n_estimators                                                       \n",
       "3             {'max_depth': 3}                1        -1.114662   \n",
       "4             {'max_depth': 4}                2        -1.114889   \n",
       "5             {'max_depth': 5}                3        -1.120137   \n",
       "\n",
       "              std_test_score  \n",
       "n_estimators                  \n",
       "3                   0.000963  \n",
       "4                   0.002035  \n",
       "5                   0.003274  "
      ]
     },
     "execution_count": 51,
     "metadata": {},
     "output_type": "execute_result"
    }
   ],
   "source": [
    "results_df = pd.DataFrame(search.cv_results_)\n",
    "results_df = results_df.sort_values(by=['rank_test_score'])\n",
    "results_df = (\n",
    "    results_df\n",
    "    .set_index(results_df[\"params\"].apply(\n",
    "        lambda x: \"_\".join(str(val) for val in x.values()))\n",
    "    )\n",
    "    .rename_axis('n_estimators')\n",
    ")\n",
    "results_df[\n",
    "    ['params', 'rank_test_score', 'mean_test_score', 'std_test_score']\n",
    "]"
   ]
  },
  {
   "cell_type": "code",
   "execution_count": 52,
   "id": "398a0392",
   "metadata": {},
   "outputs": [],
   "source": [
    "clf_final = DecisionTreeClassifier(max_depth=5)\n",
    "clf_final.fit(X, y)\n",
    "preds = clf_final.predict_proba(test_data)"
   ]
  },
  {
   "cell_type": "code",
   "execution_count": 64,
   "id": "0502ffc5",
   "metadata": {},
   "outputs": [
    {
     "name": "stdout",
     "output_type": "stream",
     "text": [
      "Your submission was successfully saved!\n"
     ]
    }
   ],
   "source": [
    "output = pd.DataFrame(data=preds, columns=clf_final.classes_)\n",
    "output.insert(0, 'id', test_data.index)\n",
    "output.to_csv('my_submission.csv', index=False)\n",
    "print(\"Your submission was successfully saved!\")"
   ]
  },
  {
   "cell_type": "code",
   "execution_count": null,
   "id": "7724fd6d",
   "metadata": {},
   "outputs": [],
   "source": []
  }
 ],
 "metadata": {
  "kernelspec": {
   "display_name": "Python 3",
   "language": "python",
   "name": "python3"
  },
  "language_info": {
   "codemirror_mode": {
    "name": "ipython",
    "version": 3
   },
   "file_extension": ".py",
   "mimetype": "text/x-python",
   "name": "python",
   "nbconvert_exporter": "python",
   "pygments_lexer": "ipython3",
   "version": "3.9.5"
  }
 },
 "nbformat": 4,
 "nbformat_minor": 5
}
