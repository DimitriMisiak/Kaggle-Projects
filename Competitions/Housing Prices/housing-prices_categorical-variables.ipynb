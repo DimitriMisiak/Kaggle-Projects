{
 "cells": [
  {
   "cell_type": "markdown",
   "id": "58e29249",
   "metadata": {},
   "source": [
    "The \"Housing Prices\" competition is a regression problem: given some info on a house, we determine its selling price.\n",
    "\n",
    "Submissions are evaluated on Root-Mean-Squared-Error (RMSE) between the logarithm of the predicted value and the logarithm of the observed sales price. "
   ]
  },
  {
   "cell_type": "code",
   "execution_count": 1,
   "id": "stunning-olive",
   "metadata": {
    "_cell_guid": "b1076dfc-b9ad-4769-8c92-a6c4dae69d19",
    "_uuid": "8f2839f25d086af736a60e9eeb907d3b93b6e0e5",
    "execution": {
     "iopub.execute_input": "2021-06-30T14:49:45.548388Z",
     "iopub.status.busy": "2021-06-30T14:49:45.547560Z",
     "iopub.status.idle": "2021-06-30T14:49:45.552728Z",
     "shell.execute_reply": "2021-06-30T14:49:45.553295Z",
     "shell.execute_reply.started": "2021-06-30T14:40:28.783404Z"
    },
    "papermill": {
     "duration": 0.022663,
     "end_time": "2021-06-30T14:49:45.553666",
     "exception": false,
     "start_time": "2021-06-30T14:49:45.531003",
     "status": "completed"
    },
    "tags": []
   },
   "outputs": [
    {
     "name": "stdout",
     "output_type": "stream",
     "text": [
      "D:\\Projects\\Kaggle-Projects\\Competitions\\Housing Prices\\housing-prices_categorical-variables.ipynb\n",
      "D:\\Projects\\Kaggle-Projects\\Competitions\\Housing Prices\\housing-prices_intermediate-ML.ipynb\n",
      "D:\\Projects\\Kaggle-Projects\\Competitions\\Housing Prices\\housing-prices_missing-values.ipynb\n",
      "D:\\Projects\\Kaggle-Projects\\Competitions\\Housing Prices\\housing-prices_pipelines.ipynb\n",
      "D:\\Projects\\Kaggle-Projects\\Competitions\\Housing Prices\\submission.csv\n",
      "D:\\Projects\\Kaggle-Projects\\Competitions\\Housing Prices\\.ipynb_checkpoints\\housing-prices_categorical-variables-checkpoint.ipynb\n",
      "D:\\Projects\\Kaggle-Projects\\Competitions\\Housing Prices\\.ipynb_checkpoints\\housing-prices_intermediate-ML-checkpoint.ipynb\n",
      "D:\\Projects\\Kaggle-Projects\\Competitions\\Housing Prices\\.ipynb_checkpoints\\housing-prices_missing-values-checkpoint.ipynb\n",
      "D:\\Projects\\Kaggle-Projects\\Competitions\\Housing Prices\\.ipynb_checkpoints\\housing-prices_pipelines-checkpoint.ipynb\n",
      "D:\\Projects\\Kaggle-Projects\\Competitions\\Housing Prices\\input\\data_description.txt\n",
      "D:\\Projects\\Kaggle-Projects\\Competitions\\Housing Prices\\input\\sample_submission.csv\n",
      "D:\\Projects\\Kaggle-Projects\\Competitions\\Housing Prices\\input\\sample_submission.csv.gz\n",
      "D:\\Projects\\Kaggle-Projects\\Competitions\\Housing Prices\\input\\test.csv\n",
      "D:\\Projects\\Kaggle-Projects\\Competitions\\Housing Prices\\input\\test.csv.gz\n",
      "D:\\Projects\\Kaggle-Projects\\Competitions\\Housing Prices\\input\\train.csv\n",
      "D:\\Projects\\Kaggle-Projects\\Competitions\\Housing Prices\\input\\train.csv.gz\n"
     ]
    }
   ],
   "source": [
    "import numpy as np # linear algebra\n",
    "import pandas as pd # data processing, CSV file I/O (e.g. pd.read_csv)\n",
    "import matplotlib.pyplot as plt # graph\n",
    "\n",
    "# Input data files are available in the read-only \"../input/\" directory\n",
    "# For example, running this (by clicking run or pressing Shift+Enter) will list all files under the input directory\n",
    "\n",
    "import os\n",
    "#for dirname, _, filenames in os.walk('/kaggle/input'):\n",
    "for dirname, _, filenames in os.walk(os.getcwd()):\n",
    "    for filename in filenames:\n",
    "        print(os.path.join(dirname, filename))\n",
    "\n",
    "\n",
    "wdir = os.getcwd()"
   ]
  },
  {
   "cell_type": "markdown",
   "id": "fe74a4e1",
   "metadata": {},
   "source": [
    "# Step 1: Gather the Data"
   ]
  },
  {
   "cell_type": "markdown",
   "id": "6fffeba9",
   "metadata": {},
   "source": [
    "### Checking the format of the data"
   ]
  },
  {
   "cell_type": "code",
   "execution_count": 2,
   "id": "7c2ecaf4",
   "metadata": {
    "execution": {
     "iopub.execute_input": "2021-06-30T14:49:45.575453Z",
     "iopub.status.busy": "2021-06-30T14:49:45.574725Z",
     "iopub.status.idle": "2021-06-30T14:49:45.632052Z",
     "shell.execute_reply": "2021-06-30T14:49:45.631434Z",
     "shell.execute_reply.started": "2021-06-30T14:43:10.103098Z"
    },
    "papermill": {
     "duration": 0.070117,
     "end_time": "2021-06-30T14:49:45.632223",
     "exception": false,
     "start_time": "2021-06-30T14:49:45.562106",
     "status": "completed"
    },
    "scrolled": true,
    "tags": []
   },
   "outputs": [],
   "source": [
    "train_data = pd.read_csv(\"input/train.csv\", index_col='Id')\n",
    "test_data = pd.read_csv(\"input/test.csv\", index_col=\"Id\")\n",
    "\n",
    "# train_data.head()\n",
    "# test_data.head()"
   ]
  },
  {
   "cell_type": "markdown",
   "id": "24807192",
   "metadata": {},
   "source": [
    "# Step 2: Prepare the Data"
   ]
  },
  {
   "cell_type": "code",
   "execution_count": 3,
   "id": "1282ac6d",
   "metadata": {},
   "outputs": [],
   "source": [
    "# Separate target from predictors\n",
    "y = train_data.SalePrice\n",
    "X_full = train_data.drop(['SalePrice'], axis=1)"
   ]
  },
  {
   "cell_type": "markdown",
   "id": "77891890",
   "metadata": {},
   "source": [
    "Preliminary investigation concerning missing values"
   ]
  },
  {
   "cell_type": "code",
   "execution_count": 4,
   "id": "dfd8dfb0",
   "metadata": {},
   "outputs": [
    {
     "name": "stdout",
     "output_type": "stream",
     "text": [
      "X_full.shape =  (1460, 79)\n",
      "LotFrontage      259\n",
      "Alley           1369\n",
      "MasVnrType         8\n",
      "MasVnrArea         8\n",
      "BsmtQual          37\n",
      "BsmtCond          37\n",
      "BsmtExposure      38\n",
      "BsmtFinType1      37\n",
      "BsmtFinType2      38\n",
      "Electrical         1\n",
      "FireplaceQu      690\n",
      "GarageType        81\n",
      "GarageYrBlt       81\n",
      "GarageFinish      81\n",
      "GarageQual        81\n",
      "GarageCond        81\n",
      "PoolQC          1453\n",
      "Fence           1179\n",
      "MiscFeature     1406\n",
      "dtype: int64\n"
     ]
    }
   ],
   "source": [
    "# Statistics of entries with missing data\n",
    "print(\"X_full.shape = \", X_full.shape)\n",
    "\n",
    "# Number of missing values in each column of training data\n",
    "missing_val_count_by_column = (X_full.isnull().sum())\n",
    "\n",
    "print(missing_val_count_by_column[missing_val_count_by_column > 0])"
   ]
  },
  {
   "cell_type": "code",
   "execution_count": 5,
   "id": "6dfff155",
   "metadata": {
    "scrolled": false
   },
   "outputs": [
    {
     "name": "stdout",
     "output_type": "stream",
     "text": [
      "['LotFrontage', 'Alley', 'MasVnrType', 'MasVnrArea', 'BsmtQual', 'BsmtCond', 'BsmtExposure', 'BsmtFinType1', 'BsmtFinType2', 'Electrical', 'FireplaceQu', 'GarageType', 'GarageYrBlt', 'GarageFinish', 'GarageQual', 'GarageCond', 'PoolQC', 'Fence', 'MiscFeature']\n",
      "X_reduced.shape =  (1460, 60)\n",
      "['MSZoning', 'Street', 'LotShape', 'LandContour', 'Utilities', 'LotConfig', 'LandSlope', 'Condition1', 'Condition2', 'BldgType', 'HouseStyle', 'RoofStyle', 'RoofMatl', 'ExterQual', 'ExterCond', 'Foundation', 'Heating', 'HeatingQC', 'CentralAir', 'KitchenQual', 'Functional', 'PavedDrive', 'SaleType', 'SaleCondition']\n"
     ]
    }
   ],
   "source": [
    "# Drop columns with missing values (simplest approach)\n",
    "cols_with_na = [col for col in X_full.columns if X_full[col].isnull().any()]\n",
    "X_reduced = X_full.drop(cols_with_na, axis=1)\n",
    "\n",
    "print(cols_with_na)\n",
    "print(\"X_reduced.shape = \", X_reduced.shape)\n",
    "\n",
    "# \"Cardinality\" means the number of unique values in a column\n",
    "# Select categorical columns with relatively low cardinality (convenient but arbitrary)\n",
    "def has_low_cardinality(df, col):\n",
    "    is_categorical = (df[col].dtype == \"object\")\n",
    "    has_low_card = (df[col].nunique() < 10)\n",
    "    return (is_categorical and has_low_card)\n",
    "\n",
    "low_cardinality_cols = [col for col in X_reduced.columns if has_low_cardinality(X_reduced, col)]\n",
    "print(low_cardinality_cols)\n",
    "\n",
    "# Select numerical columns\n",
    "numerical_cols = [col for col in X_reduced.columns if X_reduced[col].dtype in ['int64', 'float64']]\n",
    "\n",
    "# Keep selected columns only\n",
    "my_cols = low_cardinality_cols + numerical_cols\n",
    "X = X_reduced[my_cols].copy()\n",
    "\n",
    "# Divide data into training and validation subsets\n",
    "from sklearn.model_selection import train_test_split\n",
    "X_train, X_valid, y_train, y_valid = train_test_split(X, y, train_size=0.8, test_size=0.2,\n",
    "                                                                random_state=0)"
   ]
  },
  {
   "cell_type": "markdown",
   "id": "364c1686",
   "metadata": {},
   "source": [
    "## Function to Evaluate the approaches"
   ]
  },
  {
   "cell_type": "code",
   "execution_count": 6,
   "id": "92a80928",
   "metadata": {},
   "outputs": [],
   "source": [
    "from sklearn.ensemble import RandomForestRegressor\n",
    "from sklearn.metrics import mean_absolute_error\n",
    "\n",
    "# Function for comparing different approaches\n",
    "def score_dataset(X_train, X_valid, y_train, y_valid):\n",
    "    model = RandomForestRegressor(n_estimators=100, random_state=0)\n",
    "    model.fit(X_train, y_train)\n",
    "    preds = model.predict(X_valid)\n",
    "    return mean_absolute_error(y_valid, preds)"
   ]
  },
  {
   "cell_type": "markdown",
   "id": "4d21ea2b",
   "metadata": {},
   "source": [
    "### Approaches to the Preprocessing of Categorical Variables"
   ]
  },
  {
   "cell_type": "code",
   "execution_count": 7,
   "id": "735031c6",
   "metadata": {
    "scrolled": true
   },
   "outputs": [
    {
     "name": "stdout",
     "output_type": "stream",
     "text": [
      "Categorical variables:\n",
      "['MSZoning', 'Street', 'LotShape', 'LandContour', 'Utilities', 'LotConfig', 'LandSlope', 'Condition1', 'Condition2', 'BldgType', 'HouseStyle', 'RoofStyle', 'RoofMatl', 'ExterQual', 'ExterCond', 'Foundation', 'Heating', 'HeatingQC', 'CentralAir', 'KitchenQual', 'Functional', 'PavedDrive', 'SaleType', 'SaleCondition']\n"
     ]
    }
   ],
   "source": [
    "# Get list of categorical variables\n",
    "s = (X_train.dtypes == 'object')\n",
    "object_cols = list(s[s].index)\n",
    "\n",
    "print(\"Categorical variables:\")\n",
    "print(object_cols)"
   ]
  },
  {
   "cell_type": "markdown",
   "id": "44176bc9",
   "metadata": {},
   "source": [
    "### Score from Approach 1 (Drop Categorical Variables)"
   ]
  },
  {
   "cell_type": "code",
   "execution_count": 8,
   "id": "a30288c1",
   "metadata": {},
   "outputs": [
    {
     "name": "stdout",
     "output_type": "stream",
     "text": [
      "MAE from Approach 1 (Drop categorical variables):\n",
      "17837.82570776256\n"
     ]
    }
   ],
   "source": [
    "drop_X_train = X_train.select_dtypes(exclude=['object'])\n",
    "drop_X_valid = X_valid.select_dtypes(exclude=['object'])\n",
    "\n",
    "print(\"MAE from Approach 1 (Drop categorical variables):\")\n",
    "print(score_dataset(drop_X_train, drop_X_valid, y_train, y_valid))"
   ]
  },
  {
   "cell_type": "markdown",
   "id": "64b38866",
   "metadata": {},
   "source": [
    "### Score from Approach 2 (Label Encoding)"
   ]
  },
  {
   "cell_type": "code",
   "execution_count": 9,
   "id": "8547e18c",
   "metadata": {
    "scrolled": true
   },
   "outputs": [
    {
     "name": "stdout",
     "output_type": "stream",
     "text": [
      "MAE from Approach 2 (Label Encoding):\n",
      "17340.801792237442\n"
     ]
    }
   ],
   "source": [
    "from sklearn.preprocessing import LabelEncoder\n",
    "\n",
    "# Make copy to avoid changing original data \n",
    "label_X_train = X_train.copy()\n",
    "label_X_valid = X_valid.copy()\n",
    "\n",
    "# Apply label encoder to each column with categorical data\n",
    "label_encoder = LabelEncoder()\n",
    "\n",
    "label_encoder.fit_transform(X[\"MSZoning\"])\n",
    "for col in object_cols:\n",
    "    label_encoder.fit_transform(X[col])\n",
    "    label_X_train[col] = label_encoder.transform(X_train[col])\n",
    "    label_X_valid[col] = label_encoder.transform(X_valid[col])\n",
    "\n",
    "print(\"MAE from Approach 2 (Label Encoding):\") \n",
    "print(score_dataset(label_X_train, label_X_valid, y_train, y_valid))"
   ]
  },
  {
   "cell_type": "markdown",
   "id": "ffb1aa20",
   "metadata": {},
   "source": [
    "### Score from Approach 3 (One-Hot Encoding)"
   ]
  },
  {
   "cell_type": "code",
   "execution_count": 10,
   "id": "73560dc1",
   "metadata": {
    "scrolled": true
   },
   "outputs": [
    {
     "name": "stdout",
     "output_type": "stream",
     "text": [
      "MAE from Approach 3 (One-Hot Encoding):\n",
      "17425.430856164385\n"
     ]
    }
   ],
   "source": [
    "from sklearn.preprocessing import OneHotEncoder\n",
    "\n",
    "# Apply one-hot encoder to each column with categorical data\n",
    "OH_encoder = OneHotEncoder(sparse=False)\n",
    "OH_encoder.fit_transform(X[object_cols])\n",
    "OH_cols_train = pd.DataFrame(OH_encoder.transform(X_train[object_cols]))\n",
    "OH_cols_valid = pd.DataFrame(OH_encoder.transform(X_valid[object_cols]))\n",
    "\n",
    "# One-hot encoding removed index; put it back\n",
    "OH_cols_train.index = X_train.index\n",
    "OH_cols_valid.index = X_valid.index\n",
    "\n",
    "# Remove categorical columns (will replace with one-hot encoding)\n",
    "num_X_train = X_train.drop(object_cols, axis=1)\n",
    "num_X_valid = X_valid.drop(object_cols, axis=1)\n",
    "\n",
    "# Add one-hot encoded columns to numerical features\n",
    "OH_X_train = pd.concat([num_X_train, OH_cols_train], axis=1)\n",
    "OH_X_valid = pd.concat([num_X_valid, OH_cols_valid], axis=1)\n",
    "\n",
    "print(\"MAE from Approach 3 (One-Hot Encoding):\") \n",
    "print(score_dataset(OH_X_train, OH_X_valid, y_train, y_valid))"
   ]
  }
 ],
 "metadata": {
  "kernelspec": {
   "display_name": "Python 3",
   "language": "python",
   "name": "python3"
  },
  "language_info": {
   "codemirror_mode": {
    "name": "ipython",
    "version": 3
   },
   "file_extension": ".py",
   "mimetype": "text/x-python",
   "name": "python",
   "nbconvert_exporter": "python",
   "pygments_lexer": "ipython3",
   "version": "3.8.10"
  },
  "papermill": {
   "default_parameters": {},
   "duration": 9.891266,
   "end_time": "2021-06-30T14:49:48.387590",
   "environment_variables": {},
   "exception": null,
   "input_path": "__notebook__.ipynb",
   "output_path": "__notebook__.ipynb",
   "parameters": {},
   "start_time": "2021-06-30T14:49:38.496324",
   "version": "2.3.2"
  }
 },
 "nbformat": 4,
 "nbformat_minor": 5
}
