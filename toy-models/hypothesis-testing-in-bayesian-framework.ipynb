{
 "cells": [
  {
   "cell_type": "markdown",
   "id": "fc5dfb73",
   "metadata": {},
   "source": [
    "This notebook is a personnal study of hypothesis testing within Bayesian framework.\n",
    "\n",
    "Inspired by this thread:\n",
    "- https://stats.stackexchange.com/questions/130389/bayesian-equivalent-of-two-sample-t-test"
   ]
  },
  {
   "cell_type": "code",
   "execution_count": 1,
   "id": "41f1e363",
   "metadata": {},
   "outputs": [
    {
     "name": "stdout",
     "output_type": "stream",
     "text": [
      "Setup Complete\n"
     ]
    }
   ],
   "source": [
    "import numpy as np\n",
    "import pandas as pd\n",
    "pd.plotting.register_matplotlib_converters()\n",
    "import matplotlib.pyplot as plt\n",
    "%matplotlib inline\n",
    "import seaborn as sns\n",
    "sns.set_style(\"darkgrid\")\n",
    "print(\"Setup Complete\")"
   ]
  },
  {
   "cell_type": "code",
   "execution_count": 2,
   "id": "63e2c5ff",
   "metadata": {},
   "outputs": [
    {
     "name": "stdout",
     "output_type": "stream",
     "text": [
      "Prayer to RNGesus Sent\n"
     ]
    }
   ],
   "source": [
    "np.random.seed(7)\n",
    "print(\"Prayer to RNGesus Sent\")"
   ]
  },
  {
   "cell_type": "code",
   "execution_count": 3,
   "id": "a19bf03a",
   "metadata": {},
   "outputs": [
    {
     "data": {
      "text/html": [
       "\n",
       "<style>\n",
       ".output_png {\n",
       "    display: table-cell;\n",
       "    text-align: center;\n",
       "    vertical-align: middle;\n",
       "}\n",
       "</style>\n"
      ],
      "text/plain": [
       "<IPython.core.display.HTML object>"
      ]
     },
     "execution_count": 3,
     "metadata": {},
     "output_type": "execute_result"
    }
   ],
   "source": [
    "# centering images in the notebook\n",
    "from IPython.core.display import HTML\n",
    "HTML(\"\"\"\n",
    "<style>\n",
    ".output_png {\n",
    "    display: table-cell;\n",
    "    text-align: center;\n",
    "    vertical-align: middle;\n",
    "}\n",
    "</style>\n",
    "\"\"\")"
   ]
  },
  {
   "cell_type": "markdown",
   "id": "907f09b8",
   "metadata": {},
   "source": [
    "Let's consider two sets of samples, and compare their means.\n",
    "This problem could be further extrapolated to the comparison of the mean score of two models, which is useful for the model selection in Data Science."
   ]
  },
  {
   "cell_type": "code",
   "execution_count": 4,
   "id": "c68d8fd1",
   "metadata": {},
   "outputs": [],
   "source": [
    "#creating samples\n",
    "sample1 = np.random.normal(loc=100, scale=3, size=8)\n",
    "sample2 = np.random.normal(loc=103, scale=7, size=10)"
   ]
  },
  {
   "cell_type": "code",
   "execution_count": 5,
   "id": "c123c8e1",
   "metadata": {
    "scrolled": false
   },
   "outputs": [
    {
     "data": {
      "image/png": "[encoded data removed]",
      "text/plain": [
       "<Figure size 432x288 with 1 Axes>"
      ]
     },
     "metadata": {},
     "output_type": "display_data"
    }
   ],
   "source": [
    "# vizualisation of the samples\n",
    "col1 = 'slateblue'\n",
    "col2 = 'coral'\n",
    "colors=(col1, col2)\n",
    "\n",
    "fig, ax = plt.subplots()\n",
    "\n",
    "for i, sample in enumerate([sample1, sample2]):\n",
    "    col = colors[i]\n",
    "    lab = f'sample{i}'\n",
    "    sns.kdeplot(sample, c=col, ax=ax, label=lab)\n",
    "    sns.rugplot(sample, c=col, ax=ax)\n",
    "    \n",
    "    mean = sample.mean()\n",
    "    ax.axvline(mean, c=col, lw=2, ls='--', label=f'Mean {lab} = {mean:.2f}')\n",
    "    \n",
    "ax.legend()\n",
    "plt.show()"
   ]
  },
  {
   "cell_type": "code",
   "execution_count": 6,
   "id": "fd33d797",
   "metadata": {},
   "outputs": [],
   "source": [
    "from scipy.stats import norm\n",
    "\n",
    "def dnorm(x, mu, sig):\n",
    "    return norm.pdf(x, loc=mu, scale=sig)\n",
    "\n",
    "def dexp(x, l):\n",
    "    return l * np.exp(- l*x)\n",
    "\n",
    "def like(parameters):\n",
    "    [mu1, sig1, mu2, sig2] = parameters\n",
    "    return dnorm(sample1, mu1, sig1).prod()*dnorm(sample2, mu2, sig2).prod()\n",
    "\n",
    "def prior(parameters):\n",
    "    [mu1, sig1, mu2, sig2] = parameters\n",
    "    return dnorm(mu1, pooled.mean(), 1000*pooled.std()) * dnorm(mu2, pooled.mean(), 1000*pooled.std()) * dexp(sig1, 0.1) * dexp(sig2, 0.1)\n",
    "\n",
    "def posterior(parameters):\n",
    "    [mu1, sig1, mu2, sig2] = parameters\n",
    "    return like([mu1, sig1, mu2, sig2])*prior([mu1, sig1, mu2, sig2])"
   ]
  },
  {
   "cell_type": "code",
   "execution_count": 15,
   "id": "1a2b8bbd",
   "metadata": {},
   "outputs": [
    {
     "name": "stderr",
     "output_type": "stream",
     "text": [
      "100%|█████████████████████████████████████████████████████████████████████████████| 9998/9998 [00:13<00:00, 765.78it/s]"
     ]
    },
    {
     "name": "stdout",
     "output_type": "stream",
     "text": [
      "p_value = 0.07673684210526316\n"
     ]
    },
    {
     "name": "stderr",
     "output_type": "stream",
     "text": [
      "\n"
     ]
    }
   ],
   "source": [
    "mu1 = 100 \n",
    "sig1 = 10\n",
    "mu2 = 100\n",
    "sig2 = 10\n",
    "parameters = np.array([mu1, sig1, mu2, sig2])\n",
    "\n",
    "pooled= np.append(sample1, sample2)\n",
    "\n",
    "niter = 10000\n",
    "\n",
    "results = np.zeros([niter, 4])\n",
    "results[1,:] = parameters\n",
    "\n",
    "from tqdm import tqdm\n",
    "\n",
    "for iteration in tqdm(np.arange(2,niter)):\n",
    "    candidate = parameters + np.random.normal(0,0.5,4)\n",
    "    ratio = posterior(candidate)/posterior(parameters)\n",
    "    if np.random.uniform() < ratio:\n",
    "        parameters = candidate\n",
    "    results[iteration,:] = parameters\n",
    "\n",
    "#burn-in\n",
    "results = results[499:niter-1,:]\n",
    "\n",
    "mu1 = results[:,1]\n",
    "mu2 = results[:,3]\n",
    "\n",
    "d = (mu1 - mu2)\n",
    "p_value = np.mean(d > 0)\n",
    "print(f\"p_value = {p_value}\")"
   ]
  },
  {
   "cell_type": "code",
   "execution_count": 12,
   "id": "50be3f15",
   "metadata": {},
   "outputs": [
    {
     "data": {
      "image/png": "[encoded data removed]",
      "text/plain": [
       "<Figure size 432x288 with 1 Axes>"
      ]
     },
     "metadata": {},
     "output_type": "display_data"
    }
   ],
   "source": [
    "plt.figure(1)\n",
    "sns.histplot(d, kde=True, stat='density')\n",
    "sns.ecdfplot(d)\n",
    "plt.show()"
   ]
  },
  {
   "cell_type": "code",
   "execution_count": 19,
   "id": "5556ce67",
   "metadata": {},
   "outputs": [
    {
     "name": "stdout",
     "output_type": "stream",
     "text": [
      "\n",
      "There is 7.67% chances that the mean of the sample1 is higher than the mean of the samples2.\n",
      "\n"
     ]
    }
   ],
   "source": [
    "print(f\"\"\"\n",
    "There is {p_value*100:.2f}% chances that the mean of the sample1 is higher than the mean of the samples2.\n",
    "\"\"\")"
   ]
  },
  {
   "cell_type": "code",
   "execution_count": 20,
   "id": "133c67a6",
   "metadata": {},
   "outputs": [
    {
     "data": {
      "text/plain": [
       "array([ 99.51002948,   3.40635756, 103.28860518,   5.64400906])"
      ]
     },
     "execution_count": 20,
     "metadata": {},
     "output_type": "execute_result"
    }
   ],
   "source": [
    "results.mean(axis=0)"
   ]
  }
 ],
 "metadata": {
  "kernelspec": {
   "display_name": "Python 3",
   "language": "python",
   "name": "python3"
  },
  "language_info": {
   "codemirror_mode": {
    "name": "ipython",
    "version": 3
   },
   "file_extension": ".py",
   "mimetype": "text/x-python",
   "name": "python",
   "nbconvert_exporter": "python",
   "pygments_lexer": "ipython3",
   "version": "3.9.5"
  }
 },
 "nbformat": 4,
 "nbformat_minor": 5
}
