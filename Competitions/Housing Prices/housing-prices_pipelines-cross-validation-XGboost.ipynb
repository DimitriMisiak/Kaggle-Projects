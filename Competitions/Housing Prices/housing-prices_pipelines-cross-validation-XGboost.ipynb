{
 "cells": [
  {
   "cell_type": "markdown",
   "id": "58e29249",
   "metadata": {},
   "source": [
    "The \"Housing Prices\" competition is a regression problem: given some info on a house, we determine its selling price.\n",
    "\n",
    "Submissions are evaluated on Root-Mean-Squared-Error (RMSE) between the logarithm of the predicted value and the logarithm of the observed sales price. "
   ]
  },
  {
   "cell_type": "code",
   "execution_count": 1,
   "id": "stunning-olive",
   "metadata": {
    "_cell_guid": "b1076dfc-b9ad-4769-8c92-a6c4dae69d19",
    "_uuid": "8f2839f25d086af736a60e9eeb907d3b93b6e0e5",
    "execution": {
     "iopub.execute_input": "2021-06-30T14:49:45.548388Z",
     "iopub.status.busy": "2021-06-30T14:49:45.547560Z",
     "iopub.status.idle": "2021-06-30T14:49:45.552728Z",
     "shell.execute_reply": "2021-06-30T14:49:45.553295Z",
     "shell.execute_reply.started": "2021-06-30T14:40:28.783404Z"
    },
    "papermill": {
     "duration": 0.022663,
     "end_time": "2021-06-30T14:49:45.553666",
     "exception": false,
     "start_time": "2021-06-30T14:49:45.531003",
     "status": "completed"
    },
    "tags": []
   },
   "outputs": [
    {
     "name": "stdout",
     "output_type": "stream",
     "text": [
      "D:\\Projects\\Kaggle-Projects\\Competitions\\Housing Prices\\housing-prices_categorical-variables.ipynb\n",
      "D:\\Projects\\Kaggle-Projects\\Competitions\\Housing Prices\\housing-prices_intermediate-ML.ipynb\n",
      "D:\\Projects\\Kaggle-Projects\\Competitions\\Housing Prices\\housing-prices_missing-values.ipynb\n",
      "D:\\Projects\\Kaggle-Projects\\Competitions\\Housing Prices\\housing-prices_pipelines-cross-validation-XGboost.ipynb\n",
      "D:\\Projects\\Kaggle-Projects\\Competitions\\Housing Prices\\submission.csv\n",
      "D:\\Projects\\Kaggle-Projects\\Competitions\\Housing Prices\\.ipynb_checkpoints\\housing-prices_categorical-variables-checkpoint.ipynb\n",
      "D:\\Projects\\Kaggle-Projects\\Competitions\\Housing Prices\\.ipynb_checkpoints\\housing-prices_intermediate-ML-checkpoint.ipynb\n",
      "D:\\Projects\\Kaggle-Projects\\Competitions\\Housing Prices\\.ipynb_checkpoints\\housing-prices_missing-values-checkpoint.ipynb\n",
      "D:\\Projects\\Kaggle-Projects\\Competitions\\Housing Prices\\.ipynb_checkpoints\\housing-prices_pipelines-cross-validation-XGboost-checkpoint.ipynb\n",
      "D:\\Projects\\Kaggle-Projects\\Competitions\\Housing Prices\\input\\data_description.txt\n",
      "D:\\Projects\\Kaggle-Projects\\Competitions\\Housing Prices\\input\\sample_submission.csv\n",
      "D:\\Projects\\Kaggle-Projects\\Competitions\\Housing Prices\\input\\sample_submission.csv.gz\n",
      "D:\\Projects\\Kaggle-Projects\\Competitions\\Housing Prices\\input\\test.csv\n",
      "D:\\Projects\\Kaggle-Projects\\Competitions\\Housing Prices\\input\\test.csv.gz\n",
      "D:\\Projects\\Kaggle-Projects\\Competitions\\Housing Prices\\input\\train.csv\n",
      "D:\\Projects\\Kaggle-Projects\\Competitions\\Housing Prices\\input\\train.csv.gz\n"
     ]
    }
   ],
   "source": [
    "import numpy as np # linear algebra\n",
    "import pandas as pd # data processing, CSV file I/O (e.g. pd.read_csv)\n",
    "import matplotlib.pyplot as plt # graph\n",
    "\n",
    "# Input data files are available in the read-only \"../input/\" directory\n",
    "# For example, running this (by clicking run or pressing Shift+Enter) will list all files under the input directory\n",
    "\n",
    "import os\n",
    "#for dirname, _, filenames in os.walk('/kaggle/input'):\n",
    "for dirname, _, filenames in os.walk(os.getcwd()):\n",
    "    for filename in filenames:\n",
    "        print(os.path.join(dirname, filename))\n",
    "\n",
    "\n",
    "wdir = os.getcwd()"
   ]
  },
  {
   "cell_type": "markdown",
   "id": "fe74a4e1",
   "metadata": {},
   "source": [
    "# Step 1: Gather the Data"
   ]
  },
  {
   "cell_type": "markdown",
   "id": "6fffeba9",
   "metadata": {},
   "source": [
    "### Checking the format of the data"
   ]
  },
  {
   "cell_type": "code",
   "execution_count": 2,
   "id": "7c2ecaf4",
   "metadata": {
    "execution": {
     "iopub.execute_input": "2021-06-30T14:49:45.575453Z",
     "iopub.status.busy": "2021-06-30T14:49:45.574725Z",
     "iopub.status.idle": "2021-06-30T14:49:45.632052Z",
     "shell.execute_reply": "2021-06-30T14:49:45.631434Z",
     "shell.execute_reply.started": "2021-06-30T14:43:10.103098Z"
    },
    "papermill": {
     "duration": 0.070117,
     "end_time": "2021-06-30T14:49:45.632223",
     "exception": false,
     "start_time": "2021-06-30T14:49:45.562106",
     "status": "completed"
    },
    "scrolled": true,
    "tags": []
   },
   "outputs": [],
   "source": [
    "train_data = pd.read_csv(\"input/train.csv\", index_col='Id')\n",
    "test_data = pd.read_csv(\"input/test.csv\", index_col=\"Id\")\n",
    "\n",
    "# train_data.head()\n",
    "# test_data.head()"
   ]
  },
  {
   "cell_type": "markdown",
   "id": "24807192",
   "metadata": {},
   "source": [
    "# Step 2: Prepare the Data"
   ]
  },
  {
   "cell_type": "code",
   "execution_count": 3,
   "id": "791e635e",
   "metadata": {},
   "outputs": [],
   "source": [
    "# Separate target from predictors\n",
    "y = train_data.SalePrice\n",
    "X_full = train_data.drop(['SalePrice'], axis=1)"
   ]
  },
  {
   "cell_type": "code",
   "execution_count": 4,
   "id": "49fd3219",
   "metadata": {},
   "outputs": [
    {
     "name": "stdout",
     "output_type": "stream",
     "text": [
      "['LotFrontage', 'Alley', 'MasVnrType', 'MasVnrArea', 'BsmtQual', 'BsmtCond', 'BsmtExposure', 'BsmtFinType1', 'BsmtFinType2', 'Electrical', 'FireplaceQu', 'GarageType', 'GarageYrBlt', 'GarageFinish', 'GarageQual', 'GarageCond', 'PoolQC', 'Fence', 'MiscFeature']\n",
      "X_reduced.shape =  (1460, 60)\n",
      "['MSZoning', 'Street', 'LotShape', 'LandContour', 'Utilities', 'LotConfig', 'LandSlope', 'Condition1', 'Condition2', 'BldgType', 'HouseStyle', 'RoofStyle', 'RoofMatl', 'ExterQual', 'ExterCond', 'Foundation', 'Heating', 'HeatingQC', 'CentralAir', 'KitchenQual', 'Functional', 'PavedDrive', 'SaleType', 'SaleCondition']\n"
     ]
    }
   ],
   "source": [
    "# Drop columns with missing values (simplest approach)\n",
    "cols_with_na = [col for col in X_full.columns if X_full[col].isnull().any()]\n",
    "X_reduced = X_full.drop(cols_with_na, axis=1)\n",
    "\n",
    "print(cols_with_na)\n",
    "print(\"X_reduced.shape = \", X_reduced.shape)\n",
    "\n",
    "# \"Cardinality\" means the number of unique values in a column\n",
    "# Select categorical columns with relatively low cardinality (convenient but arbitrary)\n",
    "def has_low_cardinality(df, col):\n",
    "    is_categorical = (df[col].dtype == \"object\")\n",
    "    has_low_card = (df[col].nunique() < 10)\n",
    "    return (is_categorical and has_low_card)\n",
    "\n",
    "categorical_cols = [col for col in X_reduced.columns if has_low_cardinality(X_reduced, col)]\n",
    "print(categorical_cols)\n",
    "\n",
    "# Select numerical columns\n",
    "numerical_cols = [col for col in X_reduced.columns if X_reduced[col].dtype in ['int64', 'float64']]\n",
    "\n",
    "# Keep selected columns only\n",
    "my_cols = categorical_cols + numerical_cols\n",
    "X = X_reduced[my_cols].copy()\n",
    "\n",
    "# Divide data into training and validation subsets\n",
    "from sklearn.model_selection import train_test_split\n",
    "X_train, X_valid, y_train, y_valid = train_test_split(X, y, train_size=0.8, test_size=0.2,\n",
    "                                                                random_state=0)"
   ]
  },
  {
   "cell_type": "markdown",
   "id": "02391495",
   "metadata": {},
   "source": [
    "## Defining the Preprocessing Pipeline"
   ]
  },
  {
   "cell_type": "code",
   "execution_count": 5,
   "id": "2b89eee0",
   "metadata": {},
   "outputs": [],
   "source": [
    "from sklearn.compose import ColumnTransformer\n",
    "from sklearn.pipeline import Pipeline\n",
    "from sklearn.impute import SimpleImputer\n",
    "from sklearn.preprocessing import OneHotEncoder\n",
    "\n",
    "# Preprocessing for numerical data\n",
    "numerical_transformer = SimpleImputer(strategy='constant')\n",
    "\n",
    "# Preprocessing for categorical data\n",
    "categorical_transformer = Pipeline(steps=[\n",
    "    ('imputer', SimpleImputer(strategy='most_frequent')),\n",
    "     ('onehot', OneHotEncoder(handle_unknown='ignore'))\n",
    "])\n",
    "\n",
    "# Bundle preprocessing for numerical and categorical data\n",
    "preprocessor = ColumnTransformer(\n",
    "    transformers=[\n",
    "        ('num', numerical_transformer, numerical_cols),\n",
    "        ('cat', categorical_transformer, categorical_cols)\n",
    "    ])"
   ]
  },
  {
   "cell_type": "markdown",
   "id": "e22d0be0",
   "metadata": {},
   "source": [
    "## Select the model"
   ]
  },
  {
   "cell_type": "code",
   "execution_count": 6,
   "id": "8db5717e",
   "metadata": {},
   "outputs": [
    {
     "ename": "ModuleNotFoundError",
     "evalue": "No module named 'xgboost'",
     "output_type": "error",
     "traceback": [
      "\u001b[1;31m---------------------------------------------------------------------------\u001b[0m",
      "\u001b[1;31mModuleNotFoundError\u001b[0m                       Traceback (most recent call last)",
      "\u001b[1;32m<ipython-input-6-1c4901ed9dd7>\u001b[0m in \u001b[0;36m<module>\u001b[1;34m\u001b[0m\n\u001b[0;32m      3\u001b[0m \u001b[0mmodel_rfr\u001b[0m \u001b[1;33m=\u001b[0m \u001b[0mRandomForestRegressor\u001b[0m\u001b[1;33m(\u001b[0m\u001b[0mn_estimators\u001b[0m\u001b[1;33m=\u001b[0m\u001b[1;36m100\u001b[0m\u001b[1;33m,\u001b[0m \u001b[0mrandom_state\u001b[0m\u001b[1;33m=\u001b[0m\u001b[1;36m0\u001b[0m\u001b[1;33m)\u001b[0m\u001b[1;33m\u001b[0m\u001b[1;33m\u001b[0m\u001b[0m\n\u001b[0;32m      4\u001b[0m \u001b[1;33m\u001b[0m\u001b[0m\n\u001b[1;32m----> 5\u001b[1;33m \u001b[1;32mfrom\u001b[0m \u001b[0mxgboost\u001b[0m \u001b[1;32mimport\u001b[0m \u001b[0mXGBRegressor\u001b[0m\u001b[1;33m\u001b[0m\u001b[1;33m\u001b[0m\u001b[0m\n\u001b[0m\u001b[0;32m      6\u001b[0m \u001b[1;33m\u001b[0m\u001b[0m\n\u001b[0;32m      7\u001b[0m \u001b[0mmodel_xgb\u001b[0m \u001b[1;33m=\u001b[0m \u001b[0mXGBRegressor\u001b[0m\u001b[1;33m(\u001b[0m\u001b[0mn_estimators\u001b[0m\u001b[1;33m=\u001b[0m\u001b[1;36m1000\u001b[0m\u001b[1;33m,\u001b[0m \u001b[0mlearning_rate\u001b[0m\u001b[1;33m=\u001b[0m\u001b[1;36m0.05\u001b[0m\u001b[1;33m,\u001b[0m \u001b[0mn_jobs\u001b[0m\u001b[1;33m=\u001b[0m\u001b[1;36m4\u001b[0m\u001b[1;33m)\u001b[0m\u001b[1;33m\u001b[0m\u001b[1;33m\u001b[0m\u001b[0m\n",
      "\u001b[1;31mModuleNotFoundError\u001b[0m: No module named 'xgboost'"
     ]
    }
   ],
   "source": [
    "from sklearn.ensemble import RandomForestRegressor\n",
    "\n",
    "model_rfr = RandomForestRegressor(n_estimators=100, random_state=0)\n",
    "\n",
    "from xgboost import XGBRegressor\n",
    "\n",
    "model_xgb = XGBRegressor(n_estimators=1000, learning_rate=0.05, n_jobs=4)"
   ]
  },
  {
   "cell_type": "markdown",
   "id": "bb4cb477",
   "metadata": {},
   "source": [
    "## Create and Evaluate the Pipeline"
   ]
  },
  {
   "cell_type": "code",
   "execution_count": null,
   "id": "2ea5be08",
   "metadata": {
    "scrolled": true
   },
   "outputs": [],
   "source": [
    "from sklearn.metrics import mean_absolute_error\n",
    "\n",
    "# Bundle preprocessing and modeling code in a pipeline\n",
    "my_pipeline = Pipeline(steps=[('preprocessor', preprocessor),\n",
    "                              ('model', model_xgb)\n",
    "                             ])\n",
    "\n",
    "# fitting the preprocessor step\n",
    "preprocessor.fit(X_train)\n",
    "X_valid_transformed = preprocessor.transform(X_valid)\n",
    "\n",
    "my_pipeline.fit(X_train, y_train, \n",
    "                model__early_stopping_rounds=5, \n",
    "                model__eval_set=[(X_valid_transformed, y_valid)],\n",
    "                model__verbose=True)\n",
    "\n",
    "predictions = my_pipeline.predict(X_valid)\n",
    "print(\"Mean Absolute Error: \" + str(mean_absolute_error(predictions, y_valid)))"
   ]
  },
  {
   "cell_type": "code",
   "execution_count": null,
   "id": "15adffed",
   "metadata": {},
   "outputs": [],
   "source": [
    "from sklearn.model_selection import cross_val_score\n",
    "\n",
    "final_pipeline =  Pipeline(steps=[\n",
    "    ('preprocessor', preprocessor),\n",
    "    ('model', XGBRegressor(n_estimators=123, learning_rate=0.05, n_jobs=4))\n",
    "])\n",
    "\n",
    "\n",
    "# Multiply by -1 since sklearn calculates *negative* MAE\n",
    "scores = -1 * cross_val_score(\n",
    "    final_pipeline, X, y,\n",
    "    cv=3,\n",
    "    n_jobs=4,\n",
    "    scoring='neg_mean_absolute_error',\n",
    "    verbose=True,\n",
    ")\n",
    "\n",
    "print(\"MAE scores:\\n\", scores)"
   ]
  },
  {
   "cell_type": "code",
   "execution_count": null,
   "id": "d3fdebfb",
   "metadata": {},
   "outputs": [],
   "source": []
  }
 ],
 "metadata": {
  "kernelspec": {
   "display_name": "Python 3",
   "language": "python",
   "name": "python3"
  },
  "language_info": {
   "codemirror_mode": {
    "name": "ipython",
    "version": 3
   },
   "file_extension": ".py",
   "mimetype": "text/x-python",
   "name": "python",
   "nbconvert_exporter": "python",
   "pygments_lexer": "ipython3",
   "version": "3.8.8"
  },
  "papermill": {
   "default_parameters": {},
   "duration": 9.891266,
   "end_time": "2021-06-30T14:49:48.387590",
   "environment_variables": {},
   "exception": null,
   "input_path": "__notebook__.ipynb",
   "output_path": "__notebook__.ipynb",
   "parameters": {},
   "start_time": "2021-06-30T14:49:38.496324",
   "version": "2.3.2"
  }
 },
 "nbformat": 4,
 "nbformat_minor": 5
}
